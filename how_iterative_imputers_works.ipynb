{
 "cells": [
  {
   "cell_type": "code",
   "execution_count": null,
   "id": "ce24e1c0-2ab0-4bbd-98a3-d45b053df587",
   "metadata": {},
   "outputs": [],
   "source": [
    "# https://www.machinelearningplus.com/machine-learning/mice-imputation/  -> The MICE Algorithm (Step-by-step) paragraph\n",
    "# https://towardsdatascience.com/imputing-missing-data-with-simple-and-advanced-techniques-f5c7b157fb87#33d5"
   ]
  },
  {
   "cell_type": "code",
   "execution_count": 1,
   "id": "fdb5dbca-3a76-4087-b374-d18aabe46f56",
   "metadata": {},
   "outputs": [],
   "source": [
    "from IPython.core.interactiveshell import InteractiveShell; InteractiveShell.ast_node_interactivity = \"all\""
   ]
  },
  {
   "cell_type": "code",
   "execution_count": 2,
   "id": "b16c4599-f1ed-4c0e-b116-c7cf9fd98865",
   "metadata": {},
   "outputs": [
    {
     "name": "stderr",
     "output_type": "stream",
     "text": [
      "Intel(R) Extension for Scikit-learn* enabled (https://github.com/intel/scikit-learn-intelex)\n"
     ]
    }
   ],
   "source": [
    "import numpy as np\n",
    "import pandas as pd\n",
    "\n",
    "from sklearnex import patch_sklearn\n",
    "patch_sklearn()\n",
    "\n",
    "from sklearn.experimental import enable_iterative_imputer\n",
    "from sklearn.impute import IterativeImputer\n",
    "from sklearn.linear_model import BayesianRidge"
   ]
  },
  {
   "cell_type": "code",
   "execution_count": 15,
   "id": "796c5b52-94e1-427f-99b6-ae9e1c599a51",
   "metadata": {},
   "outputs": [
    {
     "data": {
      "text/html": [
       "<div>\n",
       "<style scoped>\n",
       "    .dataframe tbody tr th:only-of-type {\n",
       "        vertical-align: middle;\n",
       "    }\n",
       "\n",
       "    .dataframe tbody tr th {\n",
       "        vertical-align: top;\n",
       "    }\n",
       "\n",
       "    .dataframe thead th {\n",
       "        text-align: right;\n",
       "    }\n",
       "</style>\n",
       "<table border=\"1\" class=\"dataframe\">\n",
       "  <thead>\n",
       "    <tr style=\"text-align: right;\">\n",
       "      <th></th>\n",
       "      <th>Charlie</th>\n",
       "      <th>Sophie</th>\n",
       "      <th>Steven</th>\n",
       "    </tr>\n",
       "  </thead>\n",
       "  <tbody>\n",
       "    <tr>\n",
       "      <th>0</th>\n",
       "      <td>NaN</td>\n",
       "      <td>9.965812</td>\n",
       "      <td>28.806376</td>\n",
       "    </tr>\n",
       "    <tr>\n",
       "      <th>1</th>\n",
       "      <td>18.293272</td>\n",
       "      <td>NaN</td>\n",
       "      <td>14.664171</td>\n",
       "    </tr>\n",
       "    <tr>\n",
       "      <th>2</th>\n",
       "      <td>53.494715</td>\n",
       "      <td>17.207427</td>\n",
       "      <td>NaN</td>\n",
       "    </tr>\n",
       "  </tbody>\n",
       "</table>\n",
       "</div>"
      ],
      "text/plain": [
       "     Charlie     Sophie     Steven\n",
       "0        NaN   9.965812  28.806376\n",
       "1  18.293272        NaN  14.664171\n",
       "2  53.494715  17.207427        NaN"
      ]
     },
     "execution_count": 15,
     "metadata": {},
     "output_type": "execute_result"
    }
   ],
   "source": [
    "temp = []\n",
    "for i in range(6):\n",
    "    temp.append(np.random.randint(1, 101) + np.random.random())\n",
    "temp.insert(0, np.nan)\n",
    "temp.insert(4, np.nan)\n",
    "temp.insert(8, np.nan)\n",
    "df = pd.DataFrame(np.array(temp).reshape(3,3), columns=['Charlie', 'Sophie', 'Steven'])\n",
    "df"
   ]
  },
  {
   "cell_type": "markdown",
   "id": "8750d256-87e1-4577-bc87-4948f211ea05",
   "metadata": {
    "tags": []
   },
   "source": [
    "## fit_transform()"
   ]
  },
  {
   "cell_type": "code",
   "execution_count": 195,
   "id": "c0c16d5a-9f20-4268-ad57-fa6570990e90",
   "metadata": {},
   "outputs": [
    {
     "data": {
      "text/html": [
       "<div>\n",
       "<style scoped>\n",
       "    .dataframe tbody tr th:only-of-type {\n",
       "        vertical-align: middle;\n",
       "    }\n",
       "\n",
       "    .dataframe tbody tr th {\n",
       "        vertical-align: top;\n",
       "    }\n",
       "\n",
       "    .dataframe thead th {\n",
       "        text-align: right;\n",
       "    }\n",
       "</style>\n",
       "<table border=\"1\" class=\"dataframe\">\n",
       "  <thead>\n",
       "    <tr style=\"text-align: right;\">\n",
       "      <th></th>\n",
       "      <th>Charlie</th>\n",
       "      <th>Sophie</th>\n",
       "      <th>Steven</th>\n",
       "    </tr>\n",
       "  </thead>\n",
       "  <tbody>\n",
       "    <tr>\n",
       "      <th>0</th>\n",
       "      <td>68.339763</td>\n",
       "      <td>9.965812</td>\n",
       "      <td>28.806376</td>\n",
       "    </tr>\n",
       "    <tr>\n",
       "      <th>1</th>\n",
       "      <td>18.293272</td>\n",
       "      <td>34.379374</td>\n",
       "      <td>14.664171</td>\n",
       "    </tr>\n",
       "    <tr>\n",
       "      <th>2</th>\n",
       "      <td>53.494715</td>\n",
       "      <td>17.207427</td>\n",
       "      <td>24.611449</td>\n",
       "    </tr>\n",
       "  </tbody>\n",
       "</table>\n",
       "</div>"
      ],
      "text/plain": [
       "     Charlie     Sophie     Steven\n",
       "0  68.339763   9.965812  28.806376\n",
       "1  18.293272  34.379374  14.664171\n",
       "2  53.494715  17.207427  24.611449"
      ]
     },
     "execution_count": 195,
     "metadata": {},
     "output_type": "execute_result"
    }
   ],
   "source": [
    "imputer = IterativeImputer(max_iter=100)\n",
    "transformed_df = pd.DataFrame(imputer.fit_transform(df), columns=imputer.get_feature_names_out())\n",
    "transformed_df"
   ]
  },
  {
   "cell_type": "code",
   "execution_count": 196,
   "id": "90306292-982b-47b5-959b-9e278e3f369f",
   "metadata": {},
   "outputs": [
    {
     "data": {
      "text/plain": [
       "4"
      ]
     },
     "execution_count": 196,
     "metadata": {},
     "output_type": "execute_result"
    }
   ],
   "source": [
    "imputer.n_iter_"
   ]
  },
  {
   "cell_type": "code",
   "execution_count": 198,
   "id": "5bf5e91b-68f1-44f6-abb5-bc115b45319c",
   "metadata": {},
   "outputs": [
    {
     "data": {
      "text/plain": [
       "12"
      ]
     },
     "execution_count": 198,
     "metadata": {},
     "output_type": "execute_result"
    },
    {
     "data": {
      "text/plain": [
       "[_ImputerTriplet(feat_idx=0, neighbor_feat_idx=array([1, 2]), estimator=BayesianRidge()),\n",
       " _ImputerTriplet(feat_idx=1, neighbor_feat_idx=array([0, 2]), estimator=BayesianRidge()),\n",
       " _ImputerTriplet(feat_idx=2, neighbor_feat_idx=array([0, 1]), estimator=BayesianRidge()),\n",
       " _ImputerTriplet(feat_idx=0, neighbor_feat_idx=array([1, 2]), estimator=BayesianRidge()),\n",
       " _ImputerTriplet(feat_idx=1, neighbor_feat_idx=array([0, 2]), estimator=BayesianRidge()),\n",
       " _ImputerTriplet(feat_idx=2, neighbor_feat_idx=array([0, 1]), estimator=BayesianRidge()),\n",
       " _ImputerTriplet(feat_idx=0, neighbor_feat_idx=array([1, 2]), estimator=BayesianRidge()),\n",
       " _ImputerTriplet(feat_idx=1, neighbor_feat_idx=array([0, 2]), estimator=BayesianRidge()),\n",
       " _ImputerTriplet(feat_idx=2, neighbor_feat_idx=array([0, 1]), estimator=BayesianRidge()),\n",
       " _ImputerTriplet(feat_idx=0, neighbor_feat_idx=array([1, 2]), estimator=BayesianRidge()),\n",
       " _ImputerTriplet(feat_idx=1, neighbor_feat_idx=array([0, 2]), estimator=BayesianRidge()),\n",
       " _ImputerTriplet(feat_idx=2, neighbor_feat_idx=array([0, 1]), estimator=BayesianRidge())]"
      ]
     },
     "execution_count": 198,
     "metadata": {},
     "output_type": "execute_result"
    }
   ],
   "source": [
    "len(imputer.imputation_sequence_)   # num of features * num of iterations = num of triplets ->  3 * 4 = 12\n",
    "imputer.imputation_sequence_"
   ]
  },
  {
   "cell_type": "code",
   "execution_count": 199,
   "id": "19cf2157-6a9d-4ed8-bf36-f9d587ef5227",
   "metadata": {},
   "outputs": [
    {
     "data": {
      "text/plain": [
       "array([2.01958746, 3.9440674 ])"
      ]
     },
     "execution_count": 199,
     "metadata": {},
     "output_type": "execute_result"
    }
   ],
   "source": [
    "imputer.imputation_sequence_[0][2].coef_"
   ]
  },
  {
   "cell_type": "markdown",
   "id": "4138acbc-5fb6-4521-81d6-1aabd425c4e9",
   "metadata": {
    "jp-MarkdownHeadingCollapsed": true,
    "tags": []
   },
   "source": [
    "## fit() and then transform()"
   ]
  },
  {
   "cell_type": "code",
   "execution_count": 200,
   "id": "ccd9c8ec-923b-45a3-8bae-0abe7d91262f",
   "metadata": {},
   "outputs": [
    {
     "data": {
      "text/html": [
       "<style>#sk-container-id-19 {color: black;}#sk-container-id-19 pre{padding: 0;}#sk-container-id-19 div.sk-toggleable {background-color: white;}#sk-container-id-19 label.sk-toggleable__label {cursor: pointer;display: block;width: 100%;margin-bottom: 0;padding: 0.3em;box-sizing: border-box;text-align: center;}#sk-container-id-19 label.sk-toggleable__label-arrow:before {content: \"▸\";float: left;margin-right: 0.25em;color: #696969;}#sk-container-id-19 label.sk-toggleable__label-arrow:hover:before {color: black;}#sk-container-id-19 div.sk-estimator:hover label.sk-toggleable__label-arrow:before {color: black;}#sk-container-id-19 div.sk-toggleable__content {max-height: 0;max-width: 0;overflow: hidden;text-align: left;background-color: #f0f8ff;}#sk-container-id-19 div.sk-toggleable__content pre {margin: 0.2em;color: black;border-radius: 0.25em;background-color: #f0f8ff;}#sk-container-id-19 input.sk-toggleable__control:checked~div.sk-toggleable__content {max-height: 200px;max-width: 100%;overflow: auto;}#sk-container-id-19 input.sk-toggleable__control:checked~label.sk-toggleable__label-arrow:before {content: \"▾\";}#sk-container-id-19 div.sk-estimator input.sk-toggleable__control:checked~label.sk-toggleable__label {background-color: #d4ebff;}#sk-container-id-19 div.sk-label input.sk-toggleable__control:checked~label.sk-toggleable__label {background-color: #d4ebff;}#sk-container-id-19 input.sk-hidden--visually {border: 0;clip: rect(1px 1px 1px 1px);clip: rect(1px, 1px, 1px, 1px);height: 1px;margin: -1px;overflow: hidden;padding: 0;position: absolute;width: 1px;}#sk-container-id-19 div.sk-estimator {font-family: monospace;background-color: #f0f8ff;border: 1px dotted black;border-radius: 0.25em;box-sizing: border-box;margin-bottom: 0.5em;}#sk-container-id-19 div.sk-estimator:hover {background-color: #d4ebff;}#sk-container-id-19 div.sk-parallel-item::after {content: \"\";width: 100%;border-bottom: 1px solid gray;flex-grow: 1;}#sk-container-id-19 div.sk-label:hover label.sk-toggleable__label {background-color: #d4ebff;}#sk-container-id-19 div.sk-serial::before {content: \"\";position: absolute;border-left: 1px solid gray;box-sizing: border-box;top: 0;bottom: 0;left: 50%;z-index: 0;}#sk-container-id-19 div.sk-serial {display: flex;flex-direction: column;align-items: center;background-color: white;padding-right: 0.2em;padding-left: 0.2em;position: relative;}#sk-container-id-19 div.sk-item {position: relative;z-index: 1;}#sk-container-id-19 div.sk-parallel {display: flex;align-items: stretch;justify-content: center;background-color: white;position: relative;}#sk-container-id-19 div.sk-item::before, #sk-container-id-19 div.sk-parallel-item::before {content: \"\";position: absolute;border-left: 1px solid gray;box-sizing: border-box;top: 0;bottom: 0;left: 50%;z-index: -1;}#sk-container-id-19 div.sk-parallel-item {display: flex;flex-direction: column;z-index: 1;position: relative;background-color: white;}#sk-container-id-19 div.sk-parallel-item:first-child::after {align-self: flex-end;width: 50%;}#sk-container-id-19 div.sk-parallel-item:last-child::after {align-self: flex-start;width: 50%;}#sk-container-id-19 div.sk-parallel-item:only-child::after {width: 0;}#sk-container-id-19 div.sk-dashed-wrapped {border: 1px dashed gray;margin: 0 0.4em 0.5em 0.4em;box-sizing: border-box;padding-bottom: 0.4em;background-color: white;}#sk-container-id-19 div.sk-label label {font-family: monospace;font-weight: bold;display: inline-block;line-height: 1.2em;}#sk-container-id-19 div.sk-label-container {text-align: center;}#sk-container-id-19 div.sk-container {/* jupyter's `normalize.less` sets `[hidden] { display: none; }` but bootstrap.min.css set `[hidden] { display: none !important; }` so we also need the `!important` here to be able to override the default hidden behavior on the sphinx rendered scikit-learn.org. See: https://github.com/scikit-learn/scikit-learn/issues/21755 */display: inline-block !important;position: relative;}#sk-container-id-19 div.sk-text-repr-fallback {display: none;}</style><div id=\"sk-container-id-19\" class=\"sk-top-container\"><div class=\"sk-text-repr-fallback\"><pre>IterativeImputer(max_iter=100)</pre><b>In a Jupyter environment, please rerun this cell to show the HTML representation or trust the notebook. <br />On GitHub, the HTML representation is unable to render, please try loading this page with nbviewer.org.</b></div><div class=\"sk-container\" hidden><div class=\"sk-item\"><div class=\"sk-estimator sk-toggleable\"><input class=\"sk-toggleable__control sk-hidden--visually\" id=\"sk-estimator-id-19\" type=\"checkbox\" checked><label for=\"sk-estimator-id-19\" class=\"sk-toggleable__label sk-toggleable__label-arrow\">IterativeImputer</label><div class=\"sk-toggleable__content\"><pre>IterativeImputer(max_iter=100)</pre></div></div></div></div></div>"
      ],
      "text/plain": [
       "IterativeImputer(max_iter=100)"
      ]
     },
     "execution_count": 200,
     "metadata": {},
     "output_type": "execute_result"
    }
   ],
   "source": [
    "imputer = IterativeImputer(max_iter=100)\n",
    "imputer.fit(df)"
   ]
  },
  {
   "cell_type": "code",
   "execution_count": 203,
   "id": "f0a7b3ec-248e-4206-a203-b8baad5da067",
   "metadata": {},
   "outputs": [
    {
     "data": {
      "text/plain": [
       "4"
      ]
     },
     "execution_count": 203,
     "metadata": {},
     "output_type": "execute_result"
    },
    {
     "data": {
      "text/plain": [
       "12"
      ]
     },
     "execution_count": 203,
     "metadata": {},
     "output_type": "execute_result"
    }
   ],
   "source": [
    "imputer.n_iter_\n",
    "len(imputer.imputation_sequence_)"
   ]
  },
  {
   "cell_type": "code",
   "execution_count": 204,
   "id": "b6adcc6c-15c5-4484-a3eb-c3f385ab22bb",
   "metadata": {},
   "outputs": [
    {
     "data": {
      "text/plain": [
       "array([2.01958746, 3.9440674 ])"
      ]
     },
     "execution_count": 204,
     "metadata": {},
     "output_type": "execute_result"
    }
   ],
   "source": [
    "imputer.imputation_sequence_[0][2].coef_"
   ]
  },
  {
   "cell_type": "code",
   "execution_count": 205,
   "id": "ca77f08e-a920-4171-ae03-7e5f8eb9e6f0",
   "metadata": {},
   "outputs": [
    {
     "data": {
      "text/html": [
       "<div>\n",
       "<style scoped>\n",
       "    .dataframe tbody tr th:only-of-type {\n",
       "        vertical-align: middle;\n",
       "    }\n",
       "\n",
       "    .dataframe tbody tr th {\n",
       "        vertical-align: top;\n",
       "    }\n",
       "\n",
       "    .dataframe thead th {\n",
       "        text-align: right;\n",
       "    }\n",
       "</style>\n",
       "<table border=\"1\" class=\"dataframe\">\n",
       "  <thead>\n",
       "    <tr style=\"text-align: right;\">\n",
       "      <th></th>\n",
       "      <th>Charlie</th>\n",
       "      <th>Sophie</th>\n",
       "      <th>Steven</th>\n",
       "    </tr>\n",
       "  </thead>\n",
       "  <tbody>\n",
       "    <tr>\n",
       "      <th>0</th>\n",
       "      <td>68.339763</td>\n",
       "      <td>9.965812</td>\n",
       "      <td>28.806376</td>\n",
       "    </tr>\n",
       "    <tr>\n",
       "      <th>1</th>\n",
       "      <td>18.293272</td>\n",
       "      <td>34.379374</td>\n",
       "      <td>14.664171</td>\n",
       "    </tr>\n",
       "    <tr>\n",
       "      <th>2</th>\n",
       "      <td>53.494715</td>\n",
       "      <td>17.207427</td>\n",
       "      <td>24.611449</td>\n",
       "    </tr>\n",
       "  </tbody>\n",
       "</table>\n",
       "</div>"
      ],
      "text/plain": [
       "     Charlie     Sophie     Steven\n",
       "0  68.339763   9.965812  28.806376\n",
       "1  18.293272  34.379374  14.664171\n",
       "2  53.494715  17.207427  24.611449"
      ]
     },
     "execution_count": 205,
     "metadata": {},
     "output_type": "execute_result"
    }
   ],
   "source": [
    "transformed_df = pd.DataFrame(imputer.transform(df), columns=imputer.get_feature_names_out())\n",
    "transformed_df"
   ]
  },
  {
   "cell_type": "markdown",
   "id": "a04b7d62-daf8-46af-a96d-4a6d0d19f3ef",
   "metadata": {
    "tags": []
   },
   "source": [
    "# Simulation of IterativeImputer() executed on seen data"
   ]
  },
  {
   "cell_type": "code",
   "execution_count": 27,
   "id": "8d750005-1460-43ef-8e65-38894cfdd82e",
   "metadata": {},
   "outputs": [
    {
     "data": {
      "text/plain": [
       "(35.89399350207449, 13.586619483083217, 21.735273746717958)"
      ]
     },
     "execution_count": 27,
     "metadata": {},
     "output_type": "execute_result"
    }
   ],
   "source": [
    "# these are means used to initialize the missing values\n",
    "charlie_mean = df.iloc[:, 0].mean()\n",
    "sophie_mean = df.iloc[:, 1].mean()\n",
    "steven_mean = df.iloc[:, 2].mean()\n",
    "charlie_mean, sophie_mean, steven_mean"
   ]
  },
  {
   "cell_type": "markdown",
   "id": "695daf34-2719-4b73-b383-0c2d407ee533",
   "metadata": {
    "tags": []
   },
   "source": [
    "## first iteration, first ImputerTriplet()"
   ]
  },
  {
   "cell_type": "code",
   "execution_count": 89,
   "id": "2de71a13-499e-4b19-bba0-9e84494b3bd1",
   "metadata": {},
   "outputs": [
    {
     "data": {
      "text/plain": [
       "_ImputerTriplet(feat_idx=0, neighbor_feat_idx=array([1, 2]), estimator=BayesianRidge())"
      ]
     },
     "execution_count": 89,
     "metadata": {},
     "output_type": "execute_result"
    }
   ],
   "source": [
    "imputer.imputation_sequence_[0]"
   ]
  },
  {
   "cell_type": "code",
   "execution_count": 124,
   "id": "4d6fac4c-bd35-4397-bec6-eb8c0bdabc27",
   "metadata": {},
   "outputs": [
    {
     "data": {
      "text/html": [
       "<div>\n",
       "<style scoped>\n",
       "    .dataframe tbody tr th:only-of-type {\n",
       "        vertical-align: middle;\n",
       "    }\n",
       "\n",
       "    .dataframe tbody tr th {\n",
       "        vertical-align: top;\n",
       "    }\n",
       "\n",
       "    .dataframe thead th {\n",
       "        text-align: right;\n",
       "    }\n",
       "</style>\n",
       "<table border=\"1\" class=\"dataframe\">\n",
       "  <thead>\n",
       "    <tr style=\"text-align: right;\">\n",
       "      <th></th>\n",
       "      <th>Charlie</th>\n",
       "      <th>Sophie</th>\n",
       "      <th>Steven</th>\n",
       "    </tr>\n",
       "  </thead>\n",
       "  <tbody>\n",
       "    <tr>\n",
       "      <th>0</th>\n",
       "      <td>NaN</td>\n",
       "      <td>9.965812</td>\n",
       "      <td>28.806376</td>\n",
       "    </tr>\n",
       "    <tr>\n",
       "      <th>1</th>\n",
       "      <td>18.293272</td>\n",
       "      <td>NaN</td>\n",
       "      <td>14.664171</td>\n",
       "    </tr>\n",
       "    <tr>\n",
       "      <th>2</th>\n",
       "      <td>53.494715</td>\n",
       "      <td>17.207427</td>\n",
       "      <td>NaN</td>\n",
       "    </tr>\n",
       "  </tbody>\n",
       "</table>\n",
       "</div>"
      ],
      "text/plain": [
       "     Charlie     Sophie     Steven\n",
       "0        NaN   9.965812  28.806376\n",
       "1  18.293272        NaN  14.664171\n",
       "2  53.494715  17.207427        NaN"
      ]
     },
     "execution_count": 124,
     "metadata": {},
     "output_type": "execute_result"
    }
   ],
   "source": [
    "# Charlie is target, Sophie and Steven are features, use only rows 1 and 2 because there are non missing values for Charlie\n",
    "df"
   ]
  },
  {
   "cell_type": "code",
   "execution_count": 147,
   "id": "e2fb6500-1f79-4781-9a66-ab89f9d66915",
   "metadata": {},
   "outputs": [
    {
     "data": {
      "text/plain": [
       "array([18.29327174, 53.49471527])"
      ]
     },
     "execution_count": 147,
     "metadata": {},
     "output_type": "execute_result"
    }
   ],
   "source": [
    "target = df.iloc[1:, 0].to_numpy()\n",
    "target"
   ]
  },
  {
   "cell_type": "code",
   "execution_count": 148,
   "id": "5a786624-259e-431a-b504-a3a063abd352",
   "metadata": {},
   "outputs": [
    {
     "data": {
      "text/plain": [
       "array([[13.58661948, 14.66417114],\n",
       "       [17.20742733, 21.73527375]])"
      ]
     },
     "execution_count": 148,
     "metadata": {},
     "output_type": "execute_result"
    }
   ],
   "source": [
    "features = df.iloc[1:, 1:]\n",
    "features = features.fillna({'Sophie': sophie_mean, 'Steven': steven_mean}).to_numpy()\n",
    "features"
   ]
  },
  {
   "cell_type": "code",
   "execution_count": 149,
   "id": "d682c8c3-49c5-48be-bdf5-f5e64f1777ce",
   "metadata": {},
   "outputs": [
    {
     "data": {
      "text/html": [
       "<style>#sk-container-id-13 {color: black;}#sk-container-id-13 pre{padding: 0;}#sk-container-id-13 div.sk-toggleable {background-color: white;}#sk-container-id-13 label.sk-toggleable__label {cursor: pointer;display: block;width: 100%;margin-bottom: 0;padding: 0.3em;box-sizing: border-box;text-align: center;}#sk-container-id-13 label.sk-toggleable__label-arrow:before {content: \"▸\";float: left;margin-right: 0.25em;color: #696969;}#sk-container-id-13 label.sk-toggleable__label-arrow:hover:before {color: black;}#sk-container-id-13 div.sk-estimator:hover label.sk-toggleable__label-arrow:before {color: black;}#sk-container-id-13 div.sk-toggleable__content {max-height: 0;max-width: 0;overflow: hidden;text-align: left;background-color: #f0f8ff;}#sk-container-id-13 div.sk-toggleable__content pre {margin: 0.2em;color: black;border-radius: 0.25em;background-color: #f0f8ff;}#sk-container-id-13 input.sk-toggleable__control:checked~div.sk-toggleable__content {max-height: 200px;max-width: 100%;overflow: auto;}#sk-container-id-13 input.sk-toggleable__control:checked~label.sk-toggleable__label-arrow:before {content: \"▾\";}#sk-container-id-13 div.sk-estimator input.sk-toggleable__control:checked~label.sk-toggleable__label {background-color: #d4ebff;}#sk-container-id-13 div.sk-label input.sk-toggleable__control:checked~label.sk-toggleable__label {background-color: #d4ebff;}#sk-container-id-13 input.sk-hidden--visually {border: 0;clip: rect(1px 1px 1px 1px);clip: rect(1px, 1px, 1px, 1px);height: 1px;margin: -1px;overflow: hidden;padding: 0;position: absolute;width: 1px;}#sk-container-id-13 div.sk-estimator {font-family: monospace;background-color: #f0f8ff;border: 1px dotted black;border-radius: 0.25em;box-sizing: border-box;margin-bottom: 0.5em;}#sk-container-id-13 div.sk-estimator:hover {background-color: #d4ebff;}#sk-container-id-13 div.sk-parallel-item::after {content: \"\";width: 100%;border-bottom: 1px solid gray;flex-grow: 1;}#sk-container-id-13 div.sk-label:hover label.sk-toggleable__label {background-color: #d4ebff;}#sk-container-id-13 div.sk-serial::before {content: \"\";position: absolute;border-left: 1px solid gray;box-sizing: border-box;top: 0;bottom: 0;left: 50%;z-index: 0;}#sk-container-id-13 div.sk-serial {display: flex;flex-direction: column;align-items: center;background-color: white;padding-right: 0.2em;padding-left: 0.2em;position: relative;}#sk-container-id-13 div.sk-item {position: relative;z-index: 1;}#sk-container-id-13 div.sk-parallel {display: flex;align-items: stretch;justify-content: center;background-color: white;position: relative;}#sk-container-id-13 div.sk-item::before, #sk-container-id-13 div.sk-parallel-item::before {content: \"\";position: absolute;border-left: 1px solid gray;box-sizing: border-box;top: 0;bottom: 0;left: 50%;z-index: -1;}#sk-container-id-13 div.sk-parallel-item {display: flex;flex-direction: column;z-index: 1;position: relative;background-color: white;}#sk-container-id-13 div.sk-parallel-item:first-child::after {align-self: flex-end;width: 50%;}#sk-container-id-13 div.sk-parallel-item:last-child::after {align-self: flex-start;width: 50%;}#sk-container-id-13 div.sk-parallel-item:only-child::after {width: 0;}#sk-container-id-13 div.sk-dashed-wrapped {border: 1px dashed gray;margin: 0 0.4em 0.5em 0.4em;box-sizing: border-box;padding-bottom: 0.4em;background-color: white;}#sk-container-id-13 div.sk-label label {font-family: monospace;font-weight: bold;display: inline-block;line-height: 1.2em;}#sk-container-id-13 div.sk-label-container {text-align: center;}#sk-container-id-13 div.sk-container {/* jupyter's `normalize.less` sets `[hidden] { display: none; }` but bootstrap.min.css set `[hidden] { display: none !important; }` so we also need the `!important` here to be able to override the default hidden behavior on the sphinx rendered scikit-learn.org. See: https://github.com/scikit-learn/scikit-learn/issues/21755 */display: inline-block !important;position: relative;}#sk-container-id-13 div.sk-text-repr-fallback {display: none;}</style><div id=\"sk-container-id-13\" class=\"sk-top-container\"><div class=\"sk-text-repr-fallback\"><pre>BayesianRidge()</pre><b>In a Jupyter environment, please rerun this cell to show the HTML representation or trust the notebook. <br />On GitHub, the HTML representation is unable to render, please try loading this page with nbviewer.org.</b></div><div class=\"sk-container\" hidden><div class=\"sk-item\"><div class=\"sk-estimator sk-toggleable\"><input class=\"sk-toggleable__control sk-hidden--visually\" id=\"sk-estimator-id-13\" type=\"checkbox\" checked><label for=\"sk-estimator-id-13\" class=\"sk-toggleable__label sk-toggleable__label-arrow\">BayesianRidge</label><div class=\"sk-toggleable__content\"><pre>BayesianRidge()</pre></div></div></div></div></div>"
      ],
      "text/plain": [
       "BayesianRidge()"
      ]
     },
     "execution_count": 149,
     "metadata": {},
     "output_type": "execute_result"
    }
   ],
   "source": [
    "model = BayesianRidge()\n",
    "model.fit(features, target)"
   ]
  },
  {
   "cell_type": "code",
   "execution_count": 150,
   "id": "05140bca-c0d1-4ca4-8e9e-6f702f0434ff",
   "metadata": {},
   "outputs": [
    {
     "data": {
      "text/plain": [
       "array([2.01958746, 3.9440674 ])"
      ]
     },
     "execution_count": 150,
     "metadata": {},
     "output_type": "execute_result"
    },
    {
     "data": {
      "text/plain": [
       "array([2.01958746, 3.9440674 ])"
      ]
     },
     "execution_count": 150,
     "metadata": {},
     "output_type": "execute_result"
    }
   ],
   "source": [
    "# coefficients of our model are same as coefficients of IterativeImputer()\n",
    "model.coef_\n",
    "imputer.imputation_sequence_[0][2].coef_"
   ]
  },
  {
   "cell_type": "code",
   "execution_count": 151,
   "id": "555c14f1-8e3d-4f8b-8415-3704d1d6b701",
   "metadata": {},
   "outputs": [
    {
     "data": {
      "text/html": [
       "<div>\n",
       "<style scoped>\n",
       "    .dataframe tbody tr th:only-of-type {\n",
       "        vertical-align: middle;\n",
       "    }\n",
       "\n",
       "    .dataframe tbody tr th {\n",
       "        vertical-align: top;\n",
       "    }\n",
       "\n",
       "    .dataframe thead th {\n",
       "        text-align: right;\n",
       "    }\n",
       "</style>\n",
       "<table border=\"1\" class=\"dataframe\">\n",
       "  <thead>\n",
       "    <tr style=\"text-align: right;\">\n",
       "      <th></th>\n",
       "      <th>Charlie</th>\n",
       "      <th>Sophie</th>\n",
       "      <th>Steven</th>\n",
       "    </tr>\n",
       "  </thead>\n",
       "  <tbody>\n",
       "    <tr>\n",
       "      <th>0</th>\n",
       "      <td>NaN</td>\n",
       "      <td>9.965812</td>\n",
       "      <td>28.806376</td>\n",
       "    </tr>\n",
       "    <tr>\n",
       "      <th>1</th>\n",
       "      <td>18.293272</td>\n",
       "      <td>NaN</td>\n",
       "      <td>14.664171</td>\n",
       "    </tr>\n",
       "    <tr>\n",
       "      <th>2</th>\n",
       "      <td>53.494715</td>\n",
       "      <td>17.207427</td>\n",
       "      <td>NaN</td>\n",
       "    </tr>\n",
       "  </tbody>\n",
       "</table>\n",
       "</div>"
      ],
      "text/plain": [
       "     Charlie     Sophie     Steven\n",
       "0        NaN   9.965812  28.806376\n",
       "1  18.293272        NaN  14.664171\n",
       "2  53.494715  17.207427        NaN"
      ]
     },
     "execution_count": 151,
     "metadata": {},
     "output_type": "execute_result"
    },
    {
     "data": {
      "text/plain": [
       "array([ 9.96581163, 28.80637636])"
      ]
     },
     "execution_count": 151,
     "metadata": {},
     "output_type": "execute_result"
    }
   ],
   "source": [
    "# take features from row with missing value for Charlie and use them for prediction of this missing value\n",
    "df\n",
    "values_for_pred = df.iloc[0, 1:].to_numpy()\n",
    "values_for_pred"
   ]
  },
  {
   "cell_type": "code",
   "execution_count": 152,
   "id": "da413cd7-2f16-4c10-9676-8c6f094b5c0a",
   "metadata": {},
   "outputs": [
    {
     "data": {
      "text/plain": [
       "array([66.75854419])"
      ]
     },
     "execution_count": 152,
     "metadata": {},
     "output_type": "execute_result"
    }
   ],
   "source": [
    "# prediction\n",
    "iter_1_charlie_pred = model.predict(values_for_pred.reshape(1, -1))\n",
    "iter_1_charlie_pred"
   ]
  },
  {
   "cell_type": "markdown",
   "id": "b998681b-b64d-4508-a9f1-206daca9aac0",
   "metadata": {
    "tags": []
   },
   "source": [
    "## first iteration, second ImputerTriplet()"
   ]
  },
  {
   "cell_type": "code",
   "execution_count": 90,
   "id": "99c7b26f-3f8f-4da1-8530-7b13ca57d4e1",
   "metadata": {},
   "outputs": [
    {
     "data": {
      "text/plain": [
       "_ImputerTriplet(feat_idx=1, neighbor_feat_idx=array([0, 2]), estimator=BayesianRidge())"
      ]
     },
     "execution_count": 90,
     "metadata": {},
     "output_type": "execute_result"
    }
   ],
   "source": [
    "imputer.imputation_sequence_[1]"
   ]
  },
  {
   "cell_type": "code",
   "execution_count": 82,
   "id": "e402b5ae-5bbc-4559-b803-5e0ba0392831",
   "metadata": {},
   "outputs": [
    {
     "data": {
      "text/html": [
       "<div>\n",
       "<style scoped>\n",
       "    .dataframe tbody tr th:only-of-type {\n",
       "        vertical-align: middle;\n",
       "    }\n",
       "\n",
       "    .dataframe tbody tr th {\n",
       "        vertical-align: top;\n",
       "    }\n",
       "\n",
       "    .dataframe thead th {\n",
       "        text-align: right;\n",
       "    }\n",
       "</style>\n",
       "<table border=\"1\" class=\"dataframe\">\n",
       "  <thead>\n",
       "    <tr style=\"text-align: right;\">\n",
       "      <th></th>\n",
       "      <th>Charlie</th>\n",
       "      <th>Sophie</th>\n",
       "      <th>Steven</th>\n",
       "    </tr>\n",
       "  </thead>\n",
       "  <tbody>\n",
       "    <tr>\n",
       "      <th>0</th>\n",
       "      <td>NaN</td>\n",
       "      <td>9.965812</td>\n",
       "      <td>28.806376</td>\n",
       "    </tr>\n",
       "    <tr>\n",
       "      <th>1</th>\n",
       "      <td>18.293272</td>\n",
       "      <td>NaN</td>\n",
       "      <td>14.664171</td>\n",
       "    </tr>\n",
       "    <tr>\n",
       "      <th>2</th>\n",
       "      <td>53.494715</td>\n",
       "      <td>17.207427</td>\n",
       "      <td>NaN</td>\n",
       "    </tr>\n",
       "  </tbody>\n",
       "</table>\n",
       "</div>"
      ],
      "text/plain": [
       "     Charlie     Sophie     Steven\n",
       "0        NaN   9.965812  28.806376\n",
       "1  18.293272        NaN  14.664171\n",
       "2  53.494715  17.207427        NaN"
      ]
     },
     "execution_count": 82,
     "metadata": {},
     "output_type": "execute_result"
    }
   ],
   "source": [
    "# Sophie is target, Charlie and Steven are features, use only rows 0 and 2 because there are non missing values for Sophie\n",
    "df"
   ]
  },
  {
   "cell_type": "code",
   "execution_count": 153,
   "id": "c1d9120d-8db0-42e0-bd51-f31ec907867d",
   "metadata": {},
   "outputs": [
    {
     "data": {
      "text/plain": [
       "array([ 9.96581163, 17.20742733])"
      ]
     },
     "execution_count": 153,
     "metadata": {},
     "output_type": "execute_result"
    }
   ],
   "source": [
    "target = df.iloc[[0, 2], 1].to_numpy()\n",
    "target"
   ]
  },
  {
   "cell_type": "code",
   "execution_count": 154,
   "id": "5a6116ea-c221-497f-b989-06304fb29e2f",
   "metadata": {},
   "outputs": [
    {
     "data": {
      "text/plain": [
       "array([[66.75854419, 28.80637636],\n",
       "       [53.49471527, 21.73527375]])"
      ]
     },
     "execution_count": 154,
     "metadata": {},
     "output_type": "execute_result"
    }
   ],
   "source": [
    "features = df.iloc[[0, 2], [0, 2]]\n",
    "# now instead of mean for Charlie put previously calculated prediction for Charlie\n",
    "features = features.fillna({'Charlie': iter_1_charlie_pred[0], 'Steven': steven_mean}).to_numpy()\n",
    "features"
   ]
  },
  {
   "cell_type": "code",
   "execution_count": 155,
   "id": "fb7a7dd5-cdc0-4997-9dd6-79a223c1eae4",
   "metadata": {},
   "outputs": [
    {
     "data": {
      "text/html": [
       "<style>#sk-container-id-14 {color: black;}#sk-container-id-14 pre{padding: 0;}#sk-container-id-14 div.sk-toggleable {background-color: white;}#sk-container-id-14 label.sk-toggleable__label {cursor: pointer;display: block;width: 100%;margin-bottom: 0;padding: 0.3em;box-sizing: border-box;text-align: center;}#sk-container-id-14 label.sk-toggleable__label-arrow:before {content: \"▸\";float: left;margin-right: 0.25em;color: #696969;}#sk-container-id-14 label.sk-toggleable__label-arrow:hover:before {color: black;}#sk-container-id-14 div.sk-estimator:hover label.sk-toggleable__label-arrow:before {color: black;}#sk-container-id-14 div.sk-toggleable__content {max-height: 0;max-width: 0;overflow: hidden;text-align: left;background-color: #f0f8ff;}#sk-container-id-14 div.sk-toggleable__content pre {margin: 0.2em;color: black;border-radius: 0.25em;background-color: #f0f8ff;}#sk-container-id-14 input.sk-toggleable__control:checked~div.sk-toggleable__content {max-height: 200px;max-width: 100%;overflow: auto;}#sk-container-id-14 input.sk-toggleable__control:checked~label.sk-toggleable__label-arrow:before {content: \"▾\";}#sk-container-id-14 div.sk-estimator input.sk-toggleable__control:checked~label.sk-toggleable__label {background-color: #d4ebff;}#sk-container-id-14 div.sk-label input.sk-toggleable__control:checked~label.sk-toggleable__label {background-color: #d4ebff;}#sk-container-id-14 input.sk-hidden--visually {border: 0;clip: rect(1px 1px 1px 1px);clip: rect(1px, 1px, 1px, 1px);height: 1px;margin: -1px;overflow: hidden;padding: 0;position: absolute;width: 1px;}#sk-container-id-14 div.sk-estimator {font-family: monospace;background-color: #f0f8ff;border: 1px dotted black;border-radius: 0.25em;box-sizing: border-box;margin-bottom: 0.5em;}#sk-container-id-14 div.sk-estimator:hover {background-color: #d4ebff;}#sk-container-id-14 div.sk-parallel-item::after {content: \"\";width: 100%;border-bottom: 1px solid gray;flex-grow: 1;}#sk-container-id-14 div.sk-label:hover label.sk-toggleable__label {background-color: #d4ebff;}#sk-container-id-14 div.sk-serial::before {content: \"\";position: absolute;border-left: 1px solid gray;box-sizing: border-box;top: 0;bottom: 0;left: 50%;z-index: 0;}#sk-container-id-14 div.sk-serial {display: flex;flex-direction: column;align-items: center;background-color: white;padding-right: 0.2em;padding-left: 0.2em;position: relative;}#sk-container-id-14 div.sk-item {position: relative;z-index: 1;}#sk-container-id-14 div.sk-parallel {display: flex;align-items: stretch;justify-content: center;background-color: white;position: relative;}#sk-container-id-14 div.sk-item::before, #sk-container-id-14 div.sk-parallel-item::before {content: \"\";position: absolute;border-left: 1px solid gray;box-sizing: border-box;top: 0;bottom: 0;left: 50%;z-index: -1;}#sk-container-id-14 div.sk-parallel-item {display: flex;flex-direction: column;z-index: 1;position: relative;background-color: white;}#sk-container-id-14 div.sk-parallel-item:first-child::after {align-self: flex-end;width: 50%;}#sk-container-id-14 div.sk-parallel-item:last-child::after {align-self: flex-start;width: 50%;}#sk-container-id-14 div.sk-parallel-item:only-child::after {width: 0;}#sk-container-id-14 div.sk-dashed-wrapped {border: 1px dashed gray;margin: 0 0.4em 0.5em 0.4em;box-sizing: border-box;padding-bottom: 0.4em;background-color: white;}#sk-container-id-14 div.sk-label label {font-family: monospace;font-weight: bold;display: inline-block;line-height: 1.2em;}#sk-container-id-14 div.sk-label-container {text-align: center;}#sk-container-id-14 div.sk-container {/* jupyter's `normalize.less` sets `[hidden] { display: none; }` but bootstrap.min.css set `[hidden] { display: none !important; }` so we also need the `!important` here to be able to override the default hidden behavior on the sphinx rendered scikit-learn.org. See: https://github.com/scikit-learn/scikit-learn/issues/21755 */display: inline-block !important;position: relative;}#sk-container-id-14 div.sk-text-repr-fallback {display: none;}</style><div id=\"sk-container-id-14\" class=\"sk-top-container\"><div class=\"sk-text-repr-fallback\"><pre>BayesianRidge()</pre><b>In a Jupyter environment, please rerun this cell to show the HTML representation or trust the notebook. <br />On GitHub, the HTML representation is unable to render, please try loading this page with nbviewer.org.</b></div><div class=\"sk-container\" hidden><div class=\"sk-item\"><div class=\"sk-estimator sk-toggleable\"><input class=\"sk-toggleable__control sk-hidden--visually\" id=\"sk-estimator-id-14\" type=\"checkbox\" checked><label for=\"sk-estimator-id-14\" class=\"sk-toggleable__label sk-toggleable__label-arrow\">BayesianRidge</label><div class=\"sk-toggleable__content\"><pre>BayesianRidge()</pre></div></div></div></div></div>"
      ],
      "text/plain": [
       "BayesianRidge()"
      ]
     },
     "execution_count": 155,
     "metadata": {},
     "output_type": "execute_result"
    }
   ],
   "source": [
    "model = BayesianRidge()\n",
    "model.fit(features, target)"
   ]
  },
  {
   "cell_type": "code",
   "execution_count": 156,
   "id": "8b552cef-0e07-44d8-baa2-e66f2fa938a3",
   "metadata": {},
   "outputs": [
    {
     "data": {
      "text/plain": [
       "array([-0.42513917, -0.22664667])"
      ]
     },
     "execution_count": 156,
     "metadata": {},
     "output_type": "execute_result"
    },
    {
     "data": {
      "text/plain": [
       "array([-0.42513917, -0.22664667])"
      ]
     },
     "execution_count": 156,
     "metadata": {},
     "output_type": "execute_result"
    }
   ],
   "source": [
    "# coefficients of our model are same as coefficients of IterativeImputer()\n",
    "model.coef_\n",
    "imputer.imputation_sequence_[1][2].coef_"
   ]
  },
  {
   "cell_type": "code",
   "execution_count": 157,
   "id": "0bd75141-940b-41b3-9a44-26f77ec1c2a2",
   "metadata": {},
   "outputs": [
    {
     "data": {
      "text/html": [
       "<div>\n",
       "<style scoped>\n",
       "    .dataframe tbody tr th:only-of-type {\n",
       "        vertical-align: middle;\n",
       "    }\n",
       "\n",
       "    .dataframe tbody tr th {\n",
       "        vertical-align: top;\n",
       "    }\n",
       "\n",
       "    .dataframe thead th {\n",
       "        text-align: right;\n",
       "    }\n",
       "</style>\n",
       "<table border=\"1\" class=\"dataframe\">\n",
       "  <thead>\n",
       "    <tr style=\"text-align: right;\">\n",
       "      <th></th>\n",
       "      <th>Charlie</th>\n",
       "      <th>Sophie</th>\n",
       "      <th>Steven</th>\n",
       "    </tr>\n",
       "  </thead>\n",
       "  <tbody>\n",
       "    <tr>\n",
       "      <th>0</th>\n",
       "      <td>NaN</td>\n",
       "      <td>9.965812</td>\n",
       "      <td>28.806376</td>\n",
       "    </tr>\n",
       "    <tr>\n",
       "      <th>1</th>\n",
       "      <td>18.293272</td>\n",
       "      <td>NaN</td>\n",
       "      <td>14.664171</td>\n",
       "    </tr>\n",
       "    <tr>\n",
       "      <th>2</th>\n",
       "      <td>53.494715</td>\n",
       "      <td>17.207427</td>\n",
       "      <td>NaN</td>\n",
       "    </tr>\n",
       "  </tbody>\n",
       "</table>\n",
       "</div>"
      ],
      "text/plain": [
       "     Charlie     Sophie     Steven\n",
       "0        NaN   9.965812  28.806376\n",
       "1  18.293272        NaN  14.664171\n",
       "2  53.494715  17.207427        NaN"
      ]
     },
     "execution_count": 157,
     "metadata": {},
     "output_type": "execute_result"
    },
    {
     "data": {
      "text/plain": [
       "array([18.29327174, 14.66417114])"
      ]
     },
     "execution_count": 157,
     "metadata": {},
     "output_type": "execute_result"
    }
   ],
   "source": [
    "# take features from row with missing value for Sophie and use them for prediction of this missing value\n",
    "df\n",
    "values_for_pred = df.iloc[1, [0, 2]].to_numpy()\n",
    "values_for_pred"
   ]
  },
  {
   "cell_type": "code",
   "execution_count": 158,
   "id": "901ce76c-d4fd-4f74-96e6-5b5a6465d1fa",
   "metadata": {},
   "outputs": [
    {
     "data": {
      "text/plain": [
       "array([33.77558153])"
      ]
     },
     "execution_count": 158,
     "metadata": {},
     "output_type": "execute_result"
    }
   ],
   "source": [
    "# prediction\n",
    "iter_1_sophie_pred = model.predict(values_for_pred.reshape(1, -1))\n",
    "iter_1_sophie_pred"
   ]
  },
  {
   "cell_type": "markdown",
   "id": "b7fa8e39-c14e-41c9-af7c-220019554bad",
   "metadata": {
    "jp-MarkdownHeadingCollapsed": true,
    "tags": []
   },
   "source": [
    "## first iteration, third ImputerTriplet()"
   ]
  },
  {
   "cell_type": "code",
   "execution_count": 113,
   "id": "f8f4d998-f56e-4e20-985c-3e603b90b5b4",
   "metadata": {},
   "outputs": [
    {
     "data": {
      "text/plain": [
       "_ImputerTriplet(feat_idx=2, neighbor_feat_idx=array([0, 1]), estimator=BayesianRidge())"
      ]
     },
     "execution_count": 113,
     "metadata": {},
     "output_type": "execute_result"
    }
   ],
   "source": [
    "imputer.imputation_sequence_[2]"
   ]
  },
  {
   "cell_type": "code",
   "execution_count": 114,
   "id": "04dacb9d-5907-4407-94ac-c8fb917d1d73",
   "metadata": {},
   "outputs": [
    {
     "data": {
      "text/html": [
       "<div>\n",
       "<style scoped>\n",
       "    .dataframe tbody tr th:only-of-type {\n",
       "        vertical-align: middle;\n",
       "    }\n",
       "\n",
       "    .dataframe tbody tr th {\n",
       "        vertical-align: top;\n",
       "    }\n",
       "\n",
       "    .dataframe thead th {\n",
       "        text-align: right;\n",
       "    }\n",
       "</style>\n",
       "<table border=\"1\" class=\"dataframe\">\n",
       "  <thead>\n",
       "    <tr style=\"text-align: right;\">\n",
       "      <th></th>\n",
       "      <th>Charlie</th>\n",
       "      <th>Sophie</th>\n",
       "      <th>Steven</th>\n",
       "    </tr>\n",
       "  </thead>\n",
       "  <tbody>\n",
       "    <tr>\n",
       "      <th>0</th>\n",
       "      <td>NaN</td>\n",
       "      <td>9.965812</td>\n",
       "      <td>28.806376</td>\n",
       "    </tr>\n",
       "    <tr>\n",
       "      <th>1</th>\n",
       "      <td>18.293272</td>\n",
       "      <td>NaN</td>\n",
       "      <td>14.664171</td>\n",
       "    </tr>\n",
       "    <tr>\n",
       "      <th>2</th>\n",
       "      <td>53.494715</td>\n",
       "      <td>17.207427</td>\n",
       "      <td>NaN</td>\n",
       "    </tr>\n",
       "  </tbody>\n",
       "</table>\n",
       "</div>"
      ],
      "text/plain": [
       "     Charlie     Sophie     Steven\n",
       "0        NaN   9.965812  28.806376\n",
       "1  18.293272        NaN  14.664171\n",
       "2  53.494715  17.207427        NaN"
      ]
     },
     "execution_count": 114,
     "metadata": {},
     "output_type": "execute_result"
    }
   ],
   "source": [
    "# Steven is target, Charlie and Sophie are features, use only rows 0 and 1 because there are non missing values for Steven\n",
    "df"
   ]
  },
  {
   "cell_type": "code",
   "execution_count": 159,
   "id": "a283ad43-0338-4873-a63e-91cf90beefee",
   "metadata": {},
   "outputs": [
    {
     "data": {
      "text/plain": [
       "array([28.80637636, 14.66417114])"
      ]
     },
     "execution_count": 159,
     "metadata": {},
     "output_type": "execute_result"
    }
   ],
   "source": [
    "target = df.iloc[0:2, 2].to_numpy()\n",
    "target"
   ]
  },
  {
   "cell_type": "code",
   "execution_count": 160,
   "id": "dc1f2e58-254b-474d-81b6-54fa588c9ec1",
   "metadata": {},
   "outputs": [
    {
     "data": {
      "text/plain": [
       "array([[66.75854419,  9.96581163],\n",
       "       [18.29327174, 33.77558153]])"
      ]
     },
     "execution_count": 160,
     "metadata": {},
     "output_type": "execute_result"
    }
   ],
   "source": [
    "features = df.iloc[0:2, 0:2]\n",
    "# now instead of mean for Charlie put previously calculated prediction for Charlie\n",
    "# and instead of mean for Sophie put previously calculated prediction for Sophie\n",
    "features = features.fillna({'Charlie': iter_1_charlie_pred[0], 'Sophie': iter_1_sophie_pred[0]}).to_numpy()\n",
    "features"
   ]
  },
  {
   "cell_type": "code",
   "execution_count": 161,
   "id": "d3e28144-c59a-4aca-92ee-c3312a4119be",
   "metadata": {},
   "outputs": [
    {
     "data": {
      "text/html": [
       "<style>#sk-container-id-15 {color: black;}#sk-container-id-15 pre{padding: 0;}#sk-container-id-15 div.sk-toggleable {background-color: white;}#sk-container-id-15 label.sk-toggleable__label {cursor: pointer;display: block;width: 100%;margin-bottom: 0;padding: 0.3em;box-sizing: border-box;text-align: center;}#sk-container-id-15 label.sk-toggleable__label-arrow:before {content: \"▸\";float: left;margin-right: 0.25em;color: #696969;}#sk-container-id-15 label.sk-toggleable__label-arrow:hover:before {color: black;}#sk-container-id-15 div.sk-estimator:hover label.sk-toggleable__label-arrow:before {color: black;}#sk-container-id-15 div.sk-toggleable__content {max-height: 0;max-width: 0;overflow: hidden;text-align: left;background-color: #f0f8ff;}#sk-container-id-15 div.sk-toggleable__content pre {margin: 0.2em;color: black;border-radius: 0.25em;background-color: #f0f8ff;}#sk-container-id-15 input.sk-toggleable__control:checked~div.sk-toggleable__content {max-height: 200px;max-width: 100%;overflow: auto;}#sk-container-id-15 input.sk-toggleable__control:checked~label.sk-toggleable__label-arrow:before {content: \"▾\";}#sk-container-id-15 div.sk-estimator input.sk-toggleable__control:checked~label.sk-toggleable__label {background-color: #d4ebff;}#sk-container-id-15 div.sk-label input.sk-toggleable__control:checked~label.sk-toggleable__label {background-color: #d4ebff;}#sk-container-id-15 input.sk-hidden--visually {border: 0;clip: rect(1px 1px 1px 1px);clip: rect(1px, 1px, 1px, 1px);height: 1px;margin: -1px;overflow: hidden;padding: 0;position: absolute;width: 1px;}#sk-container-id-15 div.sk-estimator {font-family: monospace;background-color: #f0f8ff;border: 1px dotted black;border-radius: 0.25em;box-sizing: border-box;margin-bottom: 0.5em;}#sk-container-id-15 div.sk-estimator:hover {background-color: #d4ebff;}#sk-container-id-15 div.sk-parallel-item::after {content: \"\";width: 100%;border-bottom: 1px solid gray;flex-grow: 1;}#sk-container-id-15 div.sk-label:hover label.sk-toggleable__label {background-color: #d4ebff;}#sk-container-id-15 div.sk-serial::before {content: \"\";position: absolute;border-left: 1px solid gray;box-sizing: border-box;top: 0;bottom: 0;left: 50%;z-index: 0;}#sk-container-id-15 div.sk-serial {display: flex;flex-direction: column;align-items: center;background-color: white;padding-right: 0.2em;padding-left: 0.2em;position: relative;}#sk-container-id-15 div.sk-item {position: relative;z-index: 1;}#sk-container-id-15 div.sk-parallel {display: flex;align-items: stretch;justify-content: center;background-color: white;position: relative;}#sk-container-id-15 div.sk-item::before, #sk-container-id-15 div.sk-parallel-item::before {content: \"\";position: absolute;border-left: 1px solid gray;box-sizing: border-box;top: 0;bottom: 0;left: 50%;z-index: -1;}#sk-container-id-15 div.sk-parallel-item {display: flex;flex-direction: column;z-index: 1;position: relative;background-color: white;}#sk-container-id-15 div.sk-parallel-item:first-child::after {align-self: flex-end;width: 50%;}#sk-container-id-15 div.sk-parallel-item:last-child::after {align-self: flex-start;width: 50%;}#sk-container-id-15 div.sk-parallel-item:only-child::after {width: 0;}#sk-container-id-15 div.sk-dashed-wrapped {border: 1px dashed gray;margin: 0 0.4em 0.5em 0.4em;box-sizing: border-box;padding-bottom: 0.4em;background-color: white;}#sk-container-id-15 div.sk-label label {font-family: monospace;font-weight: bold;display: inline-block;line-height: 1.2em;}#sk-container-id-15 div.sk-label-container {text-align: center;}#sk-container-id-15 div.sk-container {/* jupyter's `normalize.less` sets `[hidden] { display: none; }` but bootstrap.min.css set `[hidden] { display: none !important; }` so we also need the `!important` here to be able to override the default hidden behavior on the sphinx rendered scikit-learn.org. See: https://github.com/scikit-learn/scikit-learn/issues/21755 */display: inline-block !important;position: relative;}#sk-container-id-15 div.sk-text-repr-fallback {display: none;}</style><div id=\"sk-container-id-15\" class=\"sk-top-container\"><div class=\"sk-text-repr-fallback\"><pre>BayesianRidge()</pre><b>In a Jupyter environment, please rerun this cell to show the HTML representation or trust the notebook. <br />On GitHub, the HTML representation is unable to render, please try loading this page with nbviewer.org.</b></div><div class=\"sk-container\" hidden><div class=\"sk-item\"><div class=\"sk-estimator sk-toggleable\"><input class=\"sk-toggleable__control sk-hidden--visually\" id=\"sk-estimator-id-15\" type=\"checkbox\" checked><label for=\"sk-estimator-id-15\" class=\"sk-toggleable__label sk-toggleable__label-arrow\">BayesianRidge</label><div class=\"sk-toggleable__content\"><pre>BayesianRidge()</pre></div></div></div></div></div>"
      ],
      "text/plain": [
       "BayesianRidge()"
      ]
     },
     "execution_count": 161,
     "metadata": {},
     "output_type": "execute_result"
    }
   ],
   "source": [
    "model = BayesianRidge()\n",
    "model.fit(features, target)"
   ]
  },
  {
   "cell_type": "code",
   "execution_count": 163,
   "id": "66146a47-e292-40ce-9ec7-02b05e9f0238",
   "metadata": {},
   "outputs": [
    {
     "data": {
      "text/plain": [
       "array([ 0.23506711, -0.11548256])"
      ]
     },
     "execution_count": 163,
     "metadata": {},
     "output_type": "execute_result"
    },
    {
     "data": {
      "text/plain": [
       "array([ 0.23506711, -0.11548256])"
      ]
     },
     "execution_count": 163,
     "metadata": {},
     "output_type": "execute_result"
    }
   ],
   "source": [
    "# coefficients of our model are same as coefficients of IterativeImputer()\n",
    "model.coef_\n",
    "imputer.imputation_sequence_[2][2].coef_"
   ]
  },
  {
   "cell_type": "code",
   "execution_count": 164,
   "id": "ca71e91b-26dd-4e0a-b310-cfdf520ed756",
   "metadata": {},
   "outputs": [
    {
     "data": {
      "text/html": [
       "<div>\n",
       "<style scoped>\n",
       "    .dataframe tbody tr th:only-of-type {\n",
       "        vertical-align: middle;\n",
       "    }\n",
       "\n",
       "    .dataframe tbody tr th {\n",
       "        vertical-align: top;\n",
       "    }\n",
       "\n",
       "    .dataframe thead th {\n",
       "        text-align: right;\n",
       "    }\n",
       "</style>\n",
       "<table border=\"1\" class=\"dataframe\">\n",
       "  <thead>\n",
       "    <tr style=\"text-align: right;\">\n",
       "      <th></th>\n",
       "      <th>Charlie</th>\n",
       "      <th>Sophie</th>\n",
       "      <th>Steven</th>\n",
       "    </tr>\n",
       "  </thead>\n",
       "  <tbody>\n",
       "    <tr>\n",
       "      <th>0</th>\n",
       "      <td>NaN</td>\n",
       "      <td>9.965812</td>\n",
       "      <td>28.806376</td>\n",
       "    </tr>\n",
       "    <tr>\n",
       "      <th>1</th>\n",
       "      <td>18.293272</td>\n",
       "      <td>NaN</td>\n",
       "      <td>14.664171</td>\n",
       "    </tr>\n",
       "    <tr>\n",
       "      <th>2</th>\n",
       "      <td>53.494715</td>\n",
       "      <td>17.207427</td>\n",
       "      <td>NaN</td>\n",
       "    </tr>\n",
       "  </tbody>\n",
       "</table>\n",
       "</div>"
      ],
      "text/plain": [
       "     Charlie     Sophie     Steven\n",
       "0        NaN   9.965812  28.806376\n",
       "1  18.293272        NaN  14.664171\n",
       "2  53.494715  17.207427        NaN"
      ]
     },
     "execution_count": 164,
     "metadata": {},
     "output_type": "execute_result"
    },
    {
     "data": {
      "text/plain": [
       "array([53.49471527, 17.20742733])"
      ]
     },
     "execution_count": 164,
     "metadata": {},
     "output_type": "execute_result"
    }
   ],
   "source": [
    "# take features from row with missing value for Steven and use them for prediction of this missing value\n",
    "df\n",
    "values_for_pred = df.iloc[2, 0:2].to_numpy()\n",
    "values_for_pred"
   ]
  },
  {
   "cell_type": "code",
   "execution_count": 165,
   "id": "d6839cf5-fbfa-4034-aaad-981aea49b3a6",
   "metadata": {},
   "outputs": [
    {
     "data": {
      "text/plain": [
       "array([24.8522059])"
      ]
     },
     "execution_count": 165,
     "metadata": {},
     "output_type": "execute_result"
    }
   ],
   "source": [
    "# prediction\n",
    "iter_1_steven_pred = model.predict(values_for_pred.reshape(1, -1))\n",
    "iter_1_steven_pred"
   ]
  },
  {
   "cell_type": "markdown",
   "id": "43e6626b-b554-4d2d-a56a-ebbffc6405f1",
   "metadata": {
    "jp-MarkdownHeadingCollapsed": true,
    "tags": []
   },
   "source": [
    "## second iteration, first ImputerTriplet()"
   ]
  },
  {
   "cell_type": "code",
   "execution_count": 122,
   "id": "07840ab2-b553-494f-b390-bea23b13d4c7",
   "metadata": {},
   "outputs": [
    {
     "data": {
      "text/plain": [
       "_ImputerTriplet(feat_idx=0, neighbor_feat_idx=array([1, 2]), estimator=BayesianRidge())"
      ]
     },
     "execution_count": 122,
     "metadata": {},
     "output_type": "execute_result"
    }
   ],
   "source": [
    "imputer.imputation_sequence_[3]"
   ]
  },
  {
   "cell_type": "code",
   "execution_count": 114,
   "id": "a79cc9e0-cd91-4ec6-a43b-b8173ecf8b66",
   "metadata": {},
   "outputs": [
    {
     "data": {
      "text/html": [
       "<div>\n",
       "<style scoped>\n",
       "    .dataframe tbody tr th:only-of-type {\n",
       "        vertical-align: middle;\n",
       "    }\n",
       "\n",
       "    .dataframe tbody tr th {\n",
       "        vertical-align: top;\n",
       "    }\n",
       "\n",
       "    .dataframe thead th {\n",
       "        text-align: right;\n",
       "    }\n",
       "</style>\n",
       "<table border=\"1\" class=\"dataframe\">\n",
       "  <thead>\n",
       "    <tr style=\"text-align: right;\">\n",
       "      <th></th>\n",
       "      <th>Charlie</th>\n",
       "      <th>Sophie</th>\n",
       "      <th>Steven</th>\n",
       "    </tr>\n",
       "  </thead>\n",
       "  <tbody>\n",
       "    <tr>\n",
       "      <th>0</th>\n",
       "      <td>NaN</td>\n",
       "      <td>9.965812</td>\n",
       "      <td>28.806376</td>\n",
       "    </tr>\n",
       "    <tr>\n",
       "      <th>1</th>\n",
       "      <td>18.293272</td>\n",
       "      <td>NaN</td>\n",
       "      <td>14.664171</td>\n",
       "    </tr>\n",
       "    <tr>\n",
       "      <th>2</th>\n",
       "      <td>53.494715</td>\n",
       "      <td>17.207427</td>\n",
       "      <td>NaN</td>\n",
       "    </tr>\n",
       "  </tbody>\n",
       "</table>\n",
       "</div>"
      ],
      "text/plain": [
       "     Charlie     Sophie     Steven\n",
       "0        NaN   9.965812  28.806376\n",
       "1  18.293272        NaN  14.664171\n",
       "2  53.494715  17.207427        NaN"
      ]
     },
     "execution_count": 114,
     "metadata": {},
     "output_type": "execute_result"
    }
   ],
   "source": [
    "# Charlie is target, Sophie and Steven are features, use only rows 1 and 2 because there are non missing values for Charlie\n",
    "df"
   ]
  },
  {
   "cell_type": "code",
   "execution_count": 167,
   "id": "4a1bf064-0498-44c4-abbd-62c6715ba9b8",
   "metadata": {},
   "outputs": [
    {
     "data": {
      "text/plain": [
       "array([18.29327174, 53.49471527])"
      ]
     },
     "execution_count": 167,
     "metadata": {},
     "output_type": "execute_result"
    }
   ],
   "source": [
    "target = df.iloc[1:, 0].to_numpy()\n",
    "target"
   ]
  },
  {
   "cell_type": "code",
   "execution_count": 169,
   "id": "209b1c92-0587-46fe-b2b6-beacbec8b3e9",
   "metadata": {},
   "outputs": [
    {
     "data": {
      "text/plain": [
       "array([[33.77558153, 14.66417114],\n",
       "       [17.20742733, 24.8522059 ]])"
      ]
     },
     "execution_count": 169,
     "metadata": {},
     "output_type": "execute_result"
    }
   ],
   "source": [
    "features = df.iloc[1:, 1:]\n",
    "# use previously calculated predictions\n",
    "features = features.fillna({'Sophie': iter_1_sophie_pred[0], 'Steven': iter_1_steven_pred[0]}).to_numpy()\n",
    "features"
   ]
  },
  {
   "cell_type": "code",
   "execution_count": 170,
   "id": "f321ddec-7825-4e8a-8d58-fbe9206ef94c",
   "metadata": {},
   "outputs": [
    {
     "data": {
      "text/html": [
       "<style>#sk-container-id-16 {color: black;}#sk-container-id-16 pre{padding: 0;}#sk-container-id-16 div.sk-toggleable {background-color: white;}#sk-container-id-16 label.sk-toggleable__label {cursor: pointer;display: block;width: 100%;margin-bottom: 0;padding: 0.3em;box-sizing: border-box;text-align: center;}#sk-container-id-16 label.sk-toggleable__label-arrow:before {content: \"▸\";float: left;margin-right: 0.25em;color: #696969;}#sk-container-id-16 label.sk-toggleable__label-arrow:hover:before {color: black;}#sk-container-id-16 div.sk-estimator:hover label.sk-toggleable__label-arrow:before {color: black;}#sk-container-id-16 div.sk-toggleable__content {max-height: 0;max-width: 0;overflow: hidden;text-align: left;background-color: #f0f8ff;}#sk-container-id-16 div.sk-toggleable__content pre {margin: 0.2em;color: black;border-radius: 0.25em;background-color: #f0f8ff;}#sk-container-id-16 input.sk-toggleable__control:checked~div.sk-toggleable__content {max-height: 200px;max-width: 100%;overflow: auto;}#sk-container-id-16 input.sk-toggleable__control:checked~label.sk-toggleable__label-arrow:before {content: \"▾\";}#sk-container-id-16 div.sk-estimator input.sk-toggleable__control:checked~label.sk-toggleable__label {background-color: #d4ebff;}#sk-container-id-16 div.sk-label input.sk-toggleable__control:checked~label.sk-toggleable__label {background-color: #d4ebff;}#sk-container-id-16 input.sk-hidden--visually {border: 0;clip: rect(1px 1px 1px 1px);clip: rect(1px, 1px, 1px, 1px);height: 1px;margin: -1px;overflow: hidden;padding: 0;position: absolute;width: 1px;}#sk-container-id-16 div.sk-estimator {font-family: monospace;background-color: #f0f8ff;border: 1px dotted black;border-radius: 0.25em;box-sizing: border-box;margin-bottom: 0.5em;}#sk-container-id-16 div.sk-estimator:hover {background-color: #d4ebff;}#sk-container-id-16 div.sk-parallel-item::after {content: \"\";width: 100%;border-bottom: 1px solid gray;flex-grow: 1;}#sk-container-id-16 div.sk-label:hover label.sk-toggleable__label {background-color: #d4ebff;}#sk-container-id-16 div.sk-serial::before {content: \"\";position: absolute;border-left: 1px solid gray;box-sizing: border-box;top: 0;bottom: 0;left: 50%;z-index: 0;}#sk-container-id-16 div.sk-serial {display: flex;flex-direction: column;align-items: center;background-color: white;padding-right: 0.2em;padding-left: 0.2em;position: relative;}#sk-container-id-16 div.sk-item {position: relative;z-index: 1;}#sk-container-id-16 div.sk-parallel {display: flex;align-items: stretch;justify-content: center;background-color: white;position: relative;}#sk-container-id-16 div.sk-item::before, #sk-container-id-16 div.sk-parallel-item::before {content: \"\";position: absolute;border-left: 1px solid gray;box-sizing: border-box;top: 0;bottom: 0;left: 50%;z-index: -1;}#sk-container-id-16 div.sk-parallel-item {display: flex;flex-direction: column;z-index: 1;position: relative;background-color: white;}#sk-container-id-16 div.sk-parallel-item:first-child::after {align-self: flex-end;width: 50%;}#sk-container-id-16 div.sk-parallel-item:last-child::after {align-self: flex-start;width: 50%;}#sk-container-id-16 div.sk-parallel-item:only-child::after {width: 0;}#sk-container-id-16 div.sk-dashed-wrapped {border: 1px dashed gray;margin: 0 0.4em 0.5em 0.4em;box-sizing: border-box;padding-bottom: 0.4em;background-color: white;}#sk-container-id-16 div.sk-label label {font-family: monospace;font-weight: bold;display: inline-block;line-height: 1.2em;}#sk-container-id-16 div.sk-label-container {text-align: center;}#sk-container-id-16 div.sk-container {/* jupyter's `normalize.less` sets `[hidden] { display: none; }` but bootstrap.min.css set `[hidden] { display: none !important; }` so we also need the `!important` here to be able to override the default hidden behavior on the sphinx rendered scikit-learn.org. See: https://github.com/scikit-learn/scikit-learn/issues/21755 */display: inline-block !important;position: relative;}#sk-container-id-16 div.sk-text-repr-fallback {display: none;}</style><div id=\"sk-container-id-16\" class=\"sk-top-container\"><div class=\"sk-text-repr-fallback\"><pre>BayesianRidge()</pre><b>In a Jupyter environment, please rerun this cell to show the HTML representation or trust the notebook. <br />On GitHub, the HTML representation is unable to render, please try loading this page with nbviewer.org.</b></div><div class=\"sk-container\" hidden><div class=\"sk-item\"><div class=\"sk-estimator sk-toggleable\"><input class=\"sk-toggleable__control sk-hidden--visually\" id=\"sk-estimator-id-16\" type=\"checkbox\" checked><label for=\"sk-estimator-id-16\" class=\"sk-toggleable__label sk-toggleable__label-arrow\">BayesianRidge</label><div class=\"sk-toggleable__content\"><pre>BayesianRidge()</pre></div></div></div></div></div>"
      ],
      "text/plain": [
       "BayesianRidge()"
      ]
     },
     "execution_count": 170,
     "metadata": {},
     "output_type": "execute_result"
    }
   ],
   "source": [
    "model = BayesianRidge()\n",
    "model.fit(features, target)"
   ]
  },
  {
   "cell_type": "code",
   "execution_count": 172,
   "id": "8fbf8767-f6ea-44ad-a650-87eba4f433a4",
   "metadata": {},
   "outputs": [
    {
     "data": {
      "text/plain": [
       "array([-1.54169514,  0.9480141 ])"
      ]
     },
     "execution_count": 172,
     "metadata": {},
     "output_type": "execute_result"
    },
    {
     "data": {
      "text/plain": [
       "array([-1.54169514,  0.9480141 ])"
      ]
     },
     "execution_count": 172,
     "metadata": {},
     "output_type": "execute_result"
    }
   ],
   "source": [
    "# coefficients of our model are same as coefficients of IterativeImputer()\n",
    "model.coef_\n",
    "imputer.imputation_sequence_[3][2].coef_"
   ]
  },
  {
   "cell_type": "code",
   "execution_count": 173,
   "id": "94c80433-fe23-4bf5-b875-39c44da0ed0f",
   "metadata": {},
   "outputs": [
    {
     "data": {
      "text/html": [
       "<div>\n",
       "<style scoped>\n",
       "    .dataframe tbody tr th:only-of-type {\n",
       "        vertical-align: middle;\n",
       "    }\n",
       "\n",
       "    .dataframe tbody tr th {\n",
       "        vertical-align: top;\n",
       "    }\n",
       "\n",
       "    .dataframe thead th {\n",
       "        text-align: right;\n",
       "    }\n",
       "</style>\n",
       "<table border=\"1\" class=\"dataframe\">\n",
       "  <thead>\n",
       "    <tr style=\"text-align: right;\">\n",
       "      <th></th>\n",
       "      <th>Charlie</th>\n",
       "      <th>Sophie</th>\n",
       "      <th>Steven</th>\n",
       "    </tr>\n",
       "  </thead>\n",
       "  <tbody>\n",
       "    <tr>\n",
       "      <th>0</th>\n",
       "      <td>NaN</td>\n",
       "      <td>9.965812</td>\n",
       "      <td>28.806376</td>\n",
       "    </tr>\n",
       "    <tr>\n",
       "      <th>1</th>\n",
       "      <td>18.293272</td>\n",
       "      <td>NaN</td>\n",
       "      <td>14.664171</td>\n",
       "    </tr>\n",
       "    <tr>\n",
       "      <th>2</th>\n",
       "      <td>53.494715</td>\n",
       "      <td>17.207427</td>\n",
       "      <td>NaN</td>\n",
       "    </tr>\n",
       "  </tbody>\n",
       "</table>\n",
       "</div>"
      ],
      "text/plain": [
       "     Charlie     Sophie     Steven\n",
       "0        NaN   9.965812  28.806376\n",
       "1  18.293272        NaN  14.664171\n",
       "2  53.494715  17.207427        NaN"
      ]
     },
     "execution_count": 173,
     "metadata": {},
     "output_type": "execute_result"
    },
    {
     "data": {
      "text/plain": [
       "array([ 9.96581163, 28.80637636])"
      ]
     },
     "execution_count": 173,
     "metadata": {},
     "output_type": "execute_result"
    }
   ],
   "source": [
    "# take features from row with missing value for Charlie and use them for prediction of this missing value\n",
    "df\n",
    "values_for_pred = df.iloc[0, 1:].to_numpy()\n",
    "values_for_pred"
   ]
  },
  {
   "cell_type": "code",
   "execution_count": 175,
   "id": "0b9d6b15-efa1-440f-923e-7ed72b9d5c43",
   "metadata": {},
   "outputs": [
    {
     "data": {
      "text/plain": [
       "array([68.4076883])"
      ]
     },
     "execution_count": 175,
     "metadata": {},
     "output_type": "execute_result"
    },
    {
     "name": "stdout",
     "output_type": "stream",
     "text": [
      "-------------\n"
     ]
    },
    {
     "data": {
      "text/plain": [
       "array([66.75854419])"
      ]
     },
     "execution_count": 175,
     "metadata": {},
     "output_type": "execute_result"
    }
   ],
   "source": [
    "# prediction\n",
    "iter_2_charlie_pred = model.predict(values_for_pred.reshape(1, -1))\n",
    "iter_2_charlie_pred\n",
    "\n",
    "# look how prediction for Charlie changed\n",
    "print('-------------')\n",
    "iter_1_charlie_pred"
   ]
  },
  {
   "cell_type": "markdown",
   "id": "cea8003e-725a-4eeb-a974-e304e99e5170",
   "metadata": {
    "jp-MarkdownHeadingCollapsed": true,
    "tags": []
   },
   "source": [
    "## second iteration, second ImputerTriplet()"
   ]
  },
  {
   "cell_type": "code",
   "execution_count": 176,
   "id": "4f2302c9-5500-4964-b4b1-b01f6a07fa77",
   "metadata": {},
   "outputs": [
    {
     "data": {
      "text/plain": [
       "_ImputerTriplet(feat_idx=1, neighbor_feat_idx=array([0, 2]), estimator=BayesianRidge())"
      ]
     },
     "execution_count": 176,
     "metadata": {},
     "output_type": "execute_result"
    }
   ],
   "source": [
    "imputer.imputation_sequence_[4]"
   ]
  },
  {
   "cell_type": "code",
   "execution_count": 114,
   "id": "9c15185a-25ed-4812-8a9e-c9c77d57bcfe",
   "metadata": {},
   "outputs": [
    {
     "data": {
      "text/html": [
       "<div>\n",
       "<style scoped>\n",
       "    .dataframe tbody tr th:only-of-type {\n",
       "        vertical-align: middle;\n",
       "    }\n",
       "\n",
       "    .dataframe tbody tr th {\n",
       "        vertical-align: top;\n",
       "    }\n",
       "\n",
       "    .dataframe thead th {\n",
       "        text-align: right;\n",
       "    }\n",
       "</style>\n",
       "<table border=\"1\" class=\"dataframe\">\n",
       "  <thead>\n",
       "    <tr style=\"text-align: right;\">\n",
       "      <th></th>\n",
       "      <th>Charlie</th>\n",
       "      <th>Sophie</th>\n",
       "      <th>Steven</th>\n",
       "    </tr>\n",
       "  </thead>\n",
       "  <tbody>\n",
       "    <tr>\n",
       "      <th>0</th>\n",
       "      <td>NaN</td>\n",
       "      <td>9.965812</td>\n",
       "      <td>28.806376</td>\n",
       "    </tr>\n",
       "    <tr>\n",
       "      <th>1</th>\n",
       "      <td>18.293272</td>\n",
       "      <td>NaN</td>\n",
       "      <td>14.664171</td>\n",
       "    </tr>\n",
       "    <tr>\n",
       "      <th>2</th>\n",
       "      <td>53.494715</td>\n",
       "      <td>17.207427</td>\n",
       "      <td>NaN</td>\n",
       "    </tr>\n",
       "  </tbody>\n",
       "</table>\n",
       "</div>"
      ],
      "text/plain": [
       "     Charlie     Sophie     Steven\n",
       "0        NaN   9.965812  28.806376\n",
       "1  18.293272        NaN  14.664171\n",
       "2  53.494715  17.207427        NaN"
      ]
     },
     "execution_count": 114,
     "metadata": {},
     "output_type": "execute_result"
    }
   ],
   "source": [
    "# Sophie is target, Charlie and Steven are features, use only rows 0 and 2 because there are non missing values for Sophie\n",
    "df"
   ]
  },
  {
   "cell_type": "code",
   "execution_count": 178,
   "id": "8b0160d7-d81d-40ef-83a9-dc8e1630d796",
   "metadata": {},
   "outputs": [
    {
     "data": {
      "text/plain": [
       "array([ 9.96581163, 17.20742733])"
      ]
     },
     "execution_count": 178,
     "metadata": {},
     "output_type": "execute_result"
    }
   ],
   "source": [
    "target = df.iloc[[0, 2], 1].to_numpy()\n",
    "target"
   ]
  },
  {
   "cell_type": "code",
   "execution_count": 179,
   "id": "228055b3-c64d-41f3-b370-a5eccf4235c3",
   "metadata": {},
   "outputs": [
    {
     "data": {
      "text/plain": [
       "array([[68.4076883 , 28.80637636],\n",
       "       [53.49471527, 24.8522059 ]])"
      ]
     },
     "execution_count": 179,
     "metadata": {},
     "output_type": "execute_result"
    }
   ],
   "source": [
    "features = df.iloc[[0, 2], [0, 2]]\n",
    "# use previously calculated predictions but this time take new prediction for Charlie\n",
    "features = features.fillna({'Charlie': iter_2_charlie_pred[0], 'Steven': iter_1_steven_pred[0]}).to_numpy()\n",
    "features"
   ]
  },
  {
   "cell_type": "code",
   "execution_count": 180,
   "id": "b84d16b9-0f01-441e-91c5-18c890b073ef",
   "metadata": {},
   "outputs": [
    {
     "data": {
      "text/html": [
       "<style>#sk-container-id-17 {color: black;}#sk-container-id-17 pre{padding: 0;}#sk-container-id-17 div.sk-toggleable {background-color: white;}#sk-container-id-17 label.sk-toggleable__label {cursor: pointer;display: block;width: 100%;margin-bottom: 0;padding: 0.3em;box-sizing: border-box;text-align: center;}#sk-container-id-17 label.sk-toggleable__label-arrow:before {content: \"▸\";float: left;margin-right: 0.25em;color: #696969;}#sk-container-id-17 label.sk-toggleable__label-arrow:hover:before {color: black;}#sk-container-id-17 div.sk-estimator:hover label.sk-toggleable__label-arrow:before {color: black;}#sk-container-id-17 div.sk-toggleable__content {max-height: 0;max-width: 0;overflow: hidden;text-align: left;background-color: #f0f8ff;}#sk-container-id-17 div.sk-toggleable__content pre {margin: 0.2em;color: black;border-radius: 0.25em;background-color: #f0f8ff;}#sk-container-id-17 input.sk-toggleable__control:checked~div.sk-toggleable__content {max-height: 200px;max-width: 100%;overflow: auto;}#sk-container-id-17 input.sk-toggleable__control:checked~label.sk-toggleable__label-arrow:before {content: \"▾\";}#sk-container-id-17 div.sk-estimator input.sk-toggleable__control:checked~label.sk-toggleable__label {background-color: #d4ebff;}#sk-container-id-17 div.sk-label input.sk-toggleable__control:checked~label.sk-toggleable__label {background-color: #d4ebff;}#sk-container-id-17 input.sk-hidden--visually {border: 0;clip: rect(1px 1px 1px 1px);clip: rect(1px, 1px, 1px, 1px);height: 1px;margin: -1px;overflow: hidden;padding: 0;position: absolute;width: 1px;}#sk-container-id-17 div.sk-estimator {font-family: monospace;background-color: #f0f8ff;border: 1px dotted black;border-radius: 0.25em;box-sizing: border-box;margin-bottom: 0.5em;}#sk-container-id-17 div.sk-estimator:hover {background-color: #d4ebff;}#sk-container-id-17 div.sk-parallel-item::after {content: \"\";width: 100%;border-bottom: 1px solid gray;flex-grow: 1;}#sk-container-id-17 div.sk-label:hover label.sk-toggleable__label {background-color: #d4ebff;}#sk-container-id-17 div.sk-serial::before {content: \"\";position: absolute;border-left: 1px solid gray;box-sizing: border-box;top: 0;bottom: 0;left: 50%;z-index: 0;}#sk-container-id-17 div.sk-serial {display: flex;flex-direction: column;align-items: center;background-color: white;padding-right: 0.2em;padding-left: 0.2em;position: relative;}#sk-container-id-17 div.sk-item {position: relative;z-index: 1;}#sk-container-id-17 div.sk-parallel {display: flex;align-items: stretch;justify-content: center;background-color: white;position: relative;}#sk-container-id-17 div.sk-item::before, #sk-container-id-17 div.sk-parallel-item::before {content: \"\";position: absolute;border-left: 1px solid gray;box-sizing: border-box;top: 0;bottom: 0;left: 50%;z-index: -1;}#sk-container-id-17 div.sk-parallel-item {display: flex;flex-direction: column;z-index: 1;position: relative;background-color: white;}#sk-container-id-17 div.sk-parallel-item:first-child::after {align-self: flex-end;width: 50%;}#sk-container-id-17 div.sk-parallel-item:last-child::after {align-self: flex-start;width: 50%;}#sk-container-id-17 div.sk-parallel-item:only-child::after {width: 0;}#sk-container-id-17 div.sk-dashed-wrapped {border: 1px dashed gray;margin: 0 0.4em 0.5em 0.4em;box-sizing: border-box;padding-bottom: 0.4em;background-color: white;}#sk-container-id-17 div.sk-label label {font-family: monospace;font-weight: bold;display: inline-block;line-height: 1.2em;}#sk-container-id-17 div.sk-label-container {text-align: center;}#sk-container-id-17 div.sk-container {/* jupyter's `normalize.less` sets `[hidden] { display: none; }` but bootstrap.min.css set `[hidden] { display: none !important; }` so we also need the `!important` here to be able to override the default hidden behavior on the sphinx rendered scikit-learn.org. See: https://github.com/scikit-learn/scikit-learn/issues/21755 */display: inline-block !important;position: relative;}#sk-container-id-17 div.sk-text-repr-fallback {display: none;}</style><div id=\"sk-container-id-17\" class=\"sk-top-container\"><div class=\"sk-text-repr-fallback\"><pre>BayesianRidge()</pre><b>In a Jupyter environment, please rerun this cell to show the HTML representation or trust the notebook. <br />On GitHub, the HTML representation is unable to render, please try loading this page with nbviewer.org.</b></div><div class=\"sk-container\" hidden><div class=\"sk-item\"><div class=\"sk-estimator sk-toggleable\"><input class=\"sk-toggleable__control sk-hidden--visually\" id=\"sk-estimator-id-17\" type=\"checkbox\" checked><label for=\"sk-estimator-id-17\" class=\"sk-toggleable__label sk-toggleable__label-arrow\">BayesianRidge</label><div class=\"sk-toggleable__content\"><pre>BayesianRidge()</pre></div></div></div></div></div>"
      ],
      "text/plain": [
       "BayesianRidge()"
      ]
     },
     "execution_count": 180,
     "metadata": {},
     "output_type": "execute_result"
    }
   ],
   "source": [
    "model = BayesianRidge()\n",
    "model.fit(features, target)"
   ]
  },
  {
   "cell_type": "code",
   "execution_count": 184,
   "id": "4c997b9f-1e7e-4fbb-84a1-04fd6f1668e6",
   "metadata": {},
   "outputs": [
    {
     "data": {
      "text/plain": [
       "array([-0.45369491, -0.12029707])"
      ]
     },
     "execution_count": 184,
     "metadata": {},
     "output_type": "execute_result"
    },
    {
     "data": {
      "text/plain": [
       "array([-0.45369491, -0.12029707])"
      ]
     },
     "execution_count": 184,
     "metadata": {},
     "output_type": "execute_result"
    }
   ],
   "source": [
    "# coefficients of our model are same as coefficients of IterativeImputer()\n",
    "model.coef_\n",
    "imputer.imputation_sequence_[4][2].coef_"
   ]
  },
  {
   "cell_type": "code",
   "execution_count": 185,
   "id": "0efafefb-0c48-48b6-872a-a976b938f45c",
   "metadata": {},
   "outputs": [
    {
     "data": {
      "text/html": [
       "<div>\n",
       "<style scoped>\n",
       "    .dataframe tbody tr th:only-of-type {\n",
       "        vertical-align: middle;\n",
       "    }\n",
       "\n",
       "    .dataframe tbody tr th {\n",
       "        vertical-align: top;\n",
       "    }\n",
       "\n",
       "    .dataframe thead th {\n",
       "        text-align: right;\n",
       "    }\n",
       "</style>\n",
       "<table border=\"1\" class=\"dataframe\">\n",
       "  <thead>\n",
       "    <tr style=\"text-align: right;\">\n",
       "      <th></th>\n",
       "      <th>Charlie</th>\n",
       "      <th>Sophie</th>\n",
       "      <th>Steven</th>\n",
       "    </tr>\n",
       "  </thead>\n",
       "  <tbody>\n",
       "    <tr>\n",
       "      <th>0</th>\n",
       "      <td>NaN</td>\n",
       "      <td>9.965812</td>\n",
       "      <td>28.806376</td>\n",
       "    </tr>\n",
       "    <tr>\n",
       "      <th>1</th>\n",
       "      <td>18.293272</td>\n",
       "      <td>NaN</td>\n",
       "      <td>14.664171</td>\n",
       "    </tr>\n",
       "    <tr>\n",
       "      <th>2</th>\n",
       "      <td>53.494715</td>\n",
       "      <td>17.207427</td>\n",
       "      <td>NaN</td>\n",
       "    </tr>\n",
       "  </tbody>\n",
       "</table>\n",
       "</div>"
      ],
      "text/plain": [
       "     Charlie     Sophie     Steven\n",
       "0        NaN   9.965812  28.806376\n",
       "1  18.293272        NaN  14.664171\n",
       "2  53.494715  17.207427        NaN"
      ]
     },
     "execution_count": 185,
     "metadata": {},
     "output_type": "execute_result"
    },
    {
     "data": {
      "text/plain": [
       "array([18.29327174, 14.66417114])"
      ]
     },
     "execution_count": 185,
     "metadata": {},
     "output_type": "execute_result"
    }
   ],
   "source": [
    "# take features from row with missing value for Sophie and use them for prediction of this missing value\n",
    "df\n",
    "values_for_pred = df.iloc[1, [0, 2]].to_numpy()\n",
    "values_for_pred"
   ]
  },
  {
   "cell_type": "code",
   "execution_count": 186,
   "id": "6d764c4d-b21f-42cc-b6d7-c837da8eb7e6",
   "metadata": {},
   "outputs": [
    {
     "data": {
      "text/plain": [
       "array([34.40373372])"
      ]
     },
     "execution_count": 186,
     "metadata": {},
     "output_type": "execute_result"
    },
    {
     "name": "stdout",
     "output_type": "stream",
     "text": [
      "-------------\n"
     ]
    },
    {
     "data": {
      "text/plain": [
       "array([33.77558153])"
      ]
     },
     "execution_count": 186,
     "metadata": {},
     "output_type": "execute_result"
    }
   ],
   "source": [
    "# prediction\n",
    "iter_2_sophie_pred = model.predict(values_for_pred.reshape(1, -1))\n",
    "iter_2_sophie_pred\n",
    "\n",
    "# look how prediction for Sophie changed\n",
    "print('-------------')\n",
    "iter_1_sophie_pred"
   ]
  },
  {
   "cell_type": "markdown",
   "id": "372792a9-d17d-433b-8a97-99b18a2e54ff",
   "metadata": {},
   "source": [
    "## The next steps are analogous"
   ]
  },
  {
   "cell_type": "markdown",
   "id": "412729b3-57a6-4c1a-82ad-d5f3ab96995f",
   "metadata": {},
   "source": [
    "# Simulation of IterativeImputer() executed on UNSEEN data"
   ]
  },
  {
   "cell_type": "code",
   "execution_count": 206,
   "id": "7640210d-3942-4e42-aa0e-02eac839e6a3",
   "metadata": {},
   "outputs": [
    {
     "data": {
      "text/html": [
       "<div>\n",
       "<style scoped>\n",
       "    .dataframe tbody tr th:only-of-type {\n",
       "        vertical-align: middle;\n",
       "    }\n",
       "\n",
       "    .dataframe tbody tr th {\n",
       "        vertical-align: top;\n",
       "    }\n",
       "\n",
       "    .dataframe thead th {\n",
       "        text-align: right;\n",
       "    }\n",
       "</style>\n",
       "<table border=\"1\" class=\"dataframe\">\n",
       "  <thead>\n",
       "    <tr style=\"text-align: right;\">\n",
       "      <th></th>\n",
       "      <th>Charlie</th>\n",
       "      <th>Sophie</th>\n",
       "      <th>Steven</th>\n",
       "    </tr>\n",
       "  </thead>\n",
       "  <tbody>\n",
       "    <tr>\n",
       "      <th>0</th>\n",
       "      <td>NaN</td>\n",
       "      <td>14.520244</td>\n",
       "      <td>21.915749</td>\n",
       "    </tr>\n",
       "    <tr>\n",
       "      <th>1</th>\n",
       "      <td>78.393574</td>\n",
       "      <td>NaN</td>\n",
       "      <td>67.777473</td>\n",
       "    </tr>\n",
       "    <tr>\n",
       "      <th>2</th>\n",
       "      <td>99.273823</td>\n",
       "      <td>12.726570</td>\n",
       "      <td>NaN</td>\n",
       "    </tr>\n",
       "  </tbody>\n",
       "</table>\n",
       "</div>"
      ],
      "text/plain": [
       "     Charlie     Sophie     Steven\n",
       "0        NaN  14.520244  21.915749\n",
       "1  78.393574        NaN  67.777473\n",
       "2  99.273823  12.726570        NaN"
      ]
     },
     "execution_count": 206,
     "metadata": {},
     "output_type": "execute_result"
    }
   ],
   "source": [
    "temp_2 = []\n",
    "for i in range(6):\n",
    "    temp_2.append(np.random.randint(1, 101) + np.random.random())\n",
    "temp_2.insert(0, np.nan)\n",
    "temp_2.insert(4, np.nan)\n",
    "temp_2.insert(8, np.nan)\n",
    "df_2 = pd.DataFrame(np.array(temp_2).reshape(3,3), columns=['Charlie', 'Sophie', 'Steven'])\n",
    "df_2"
   ]
  },
  {
   "cell_type": "code",
   "execution_count": 208,
   "id": "af33da58-619e-4421-a591-50a514ad25b5",
   "metadata": {},
   "outputs": [
    {
     "data": {
      "text/html": [
       "<div>\n",
       "<style scoped>\n",
       "    .dataframe tbody tr th:only-of-type {\n",
       "        vertical-align: middle;\n",
       "    }\n",
       "\n",
       "    .dataframe tbody tr th {\n",
       "        vertical-align: top;\n",
       "    }\n",
       "\n",
       "    .dataframe thead th {\n",
       "        text-align: right;\n",
       "    }\n",
       "</style>\n",
       "<table border=\"1\" class=\"dataframe\">\n",
       "  <thead>\n",
       "    <tr style=\"text-align: right;\">\n",
       "      <th></th>\n",
       "      <th>Charlie</th>\n",
       "      <th>Sophie</th>\n",
       "      <th>Steven</th>\n",
       "    </tr>\n",
       "  </thead>\n",
       "  <tbody>\n",
       "    <tr>\n",
       "      <th>0</th>\n",
       "      <td>55.221759</td>\n",
       "      <td>14.520244</td>\n",
       "      <td>21.915749</td>\n",
       "    </tr>\n",
       "    <tr>\n",
       "      <th>1</th>\n",
       "      <td>78.393574</td>\n",
       "      <td>0.449702</td>\n",
       "      <td>67.777473</td>\n",
       "    </tr>\n",
       "    <tr>\n",
       "      <th>2</th>\n",
       "      <td>99.273823</td>\n",
       "      <td>12.726570</td>\n",
       "      <td>35.560053</td>\n",
       "    </tr>\n",
       "  </tbody>\n",
       "</table>\n",
       "</div>"
      ],
      "text/plain": [
       "     Charlie     Sophie     Steven\n",
       "0  55.221759  14.520244  21.915749\n",
       "1  78.393574   0.449702  67.777473\n",
       "2  99.273823  12.726570  35.560053"
      ]
     },
     "execution_count": 208,
     "metadata": {},
     "output_type": "execute_result"
    }
   ],
   "source": [
    "pd.DataFrame(imputer.transform(df_2), columns=imputer.get_feature_names_out())"
   ]
  },
  {
   "cell_type": "code",
   "execution_count": 216,
   "id": "8de44294-dad5-47b5-a85f-d9cf714b8c8f",
   "metadata": {},
   "outputs": [
    {
     "data": {
      "text/plain": [
       "array([14.52024364, 21.91574917])"
      ]
     },
     "execution_count": 216,
     "metadata": {},
     "output_type": "execute_result"
    },
    {
     "data": {
      "text/plain": [
       "array([55.22175933])"
      ]
     },
     "execution_count": 216,
     "metadata": {},
     "output_type": "execute_result"
    }
   ],
   "source": [
    "values_for_pred = df_2.iloc[0, 1:].to_numpy()\n",
    "values_for_pred\n",
    "\n",
    "# prediction for Charlie\n",
    "# IterativeImputer() takes latest model from .imputation_sequence_ for prediction\n",
    "prediction = imputer.imputation_sequence_[9][2].predict(values_for_pred.reshape(1, -1))\n",
    "prediction"
   ]
  },
  {
   "cell_type": "code",
   "execution_count": 217,
   "id": "54085735-5f32-4d8d-a5e5-1436bee36e30",
   "metadata": {},
   "outputs": [
    {
     "data": {
      "text/plain": [
       "array([78.39357385, 67.77747312])"
      ]
     },
     "execution_count": 217,
     "metadata": {},
     "output_type": "execute_result"
    },
    {
     "data": {
      "text/plain": [
       "array([0.44970209])"
      ]
     },
     "execution_count": 217,
     "metadata": {},
     "output_type": "execute_result"
    }
   ],
   "source": [
    "values_for_pred = df_2.iloc[1, [0, 2]].to_numpy()\n",
    "values_for_pred\n",
    "\n",
    "# prediction for Sophie\n",
    "# IterativeImputer() takes latest model from .imputation_sequence_ for prediction\n",
    "prediction = imputer.imputation_sequence_[10][2].predict(values_for_pred.reshape(1, -1))\n",
    "prediction"
   ]
  },
  {
   "cell_type": "code",
   "execution_count": 219,
   "id": "0a0c2caa-09fb-4af5-8a57-337a01411d4c",
   "metadata": {},
   "outputs": [
    {
     "data": {
      "text/plain": [
       "array([99.2738229 , 12.72656975])"
      ]
     },
     "execution_count": 219,
     "metadata": {},
     "output_type": "execute_result"
    },
    {
     "data": {
      "text/plain": [
       "array([35.56005303])"
      ]
     },
     "execution_count": 219,
     "metadata": {},
     "output_type": "execute_result"
    }
   ],
   "source": [
    "values_for_pred = df_2.iloc[2, :2].to_numpy()\n",
    "values_for_pred\n",
    "\n",
    "# prediction for Steven\n",
    "# IterativeImputer() takes latest model from .imputation_sequence_ for prediction\n",
    "prediction = imputer.imputation_sequence_[11][2].predict(values_for_pred.reshape(1, -1))\n",
    "prediction"
   ]
  },
  {
   "cell_type": "markdown",
   "id": "3e0afd20-8d5b-4cd6-a9a4-00f5c0a125ce",
   "metadata": {},
   "source": [
    "# Simulation of IterativeImputer(); UNSEEN data, different NaNs distribution"
   ]
  },
  {
   "cell_type": "code",
   "execution_count": 6,
   "id": "8f9aa08e-d9e8-44ec-9349-4b6e57a36d99",
   "metadata": {},
   "outputs": [],
   "source": [
    "def gen_rand_num():\n",
    "    return np.random.randint(1, 101) + np.random.random()"
   ]
  },
  {
   "cell_type": "code",
   "execution_count": 3,
   "id": "00effb0d-d6ce-4a61-95ea-32bba01c07b4",
   "metadata": {},
   "outputs": [
    {
     "data": {
      "text/html": [
       "<div>\n",
       "<style scoped>\n",
       "    .dataframe tbody tr th:only-of-type {\n",
       "        vertical-align: middle;\n",
       "    }\n",
       "\n",
       "    .dataframe tbody tr th {\n",
       "        vertical-align: top;\n",
       "    }\n",
       "\n",
       "    .dataframe thead th {\n",
       "        text-align: right;\n",
       "    }\n",
       "</style>\n",
       "<table border=\"1\" class=\"dataframe\">\n",
       "  <thead>\n",
       "    <tr style=\"text-align: right;\">\n",
       "      <th></th>\n",
       "      <th>Charlie</th>\n",
       "      <th>Sophie</th>\n",
       "      <th>Steven</th>\n",
       "    </tr>\n",
       "  </thead>\n",
       "  <tbody>\n",
       "    <tr>\n",
       "      <th>0</th>\n",
       "      <td>NaN</td>\n",
       "      <td>23.954847</td>\n",
       "      <td>79.786868</td>\n",
       "    </tr>\n",
       "    <tr>\n",
       "      <th>1</th>\n",
       "      <td>49.860382</td>\n",
       "      <td>NaN</td>\n",
       "      <td>32.377146</td>\n",
       "    </tr>\n",
       "    <tr>\n",
       "      <th>2</th>\n",
       "      <td>50.579794</td>\n",
       "      <td>100.773471</td>\n",
       "      <td>NaN</td>\n",
       "    </tr>\n",
       "  </tbody>\n",
       "</table>\n",
       "</div>"
      ],
      "text/plain": [
       "     Charlie      Sophie     Steven\n",
       "0        NaN   23.954847  79.786868\n",
       "1  49.860382         NaN  32.377146\n",
       "2  50.579794  100.773471        NaN"
      ]
     },
     "execution_count": 3,
     "metadata": {},
     "output_type": "execute_result"
    }
   ],
   "source": [
    "temp = []\n",
    "for i in range(6):\n",
    "    temp.append(np.random.randint(1, 101) + np.random.random())\n",
    "temp.insert(0, np.nan)\n",
    "temp.insert(4, np.nan)\n",
    "temp.insert(8, np.nan)\n",
    "df = pd.DataFrame(np.array(temp).reshape(3,3), columns=['Charlie', 'Sophie', 'Steven'])\n",
    "df"
   ]
  },
  {
   "cell_type": "code",
   "execution_count": 4,
   "id": "44b2000e-e69e-4717-b2e3-e32e80bdb794",
   "metadata": {},
   "outputs": [
    {
     "data": {
      "text/plain": [
       "array([[ 51.30089873,  23.95484738,  79.78686809],\n",
       "       [ 49.86038167, 177.41083537,  32.3771463 ],\n",
       "       [ 50.57979351, 100.77347115,  56.05400744]])"
      ]
     },
     "execution_count": 4,
     "metadata": {},
     "output_type": "execute_result"
    }
   ],
   "source": [
    "imputer = IterativeImputer(max_iter=100)\n",
    "imputer.fit_transform(df)"
   ]
  },
  {
   "cell_type": "code",
   "execution_count": 7,
   "id": "21ef0c15-e4fa-4a4e-8ea6-843cfba118dc",
   "metadata": {},
   "outputs": [
    {
     "data": {
      "text/html": [
       "<div>\n",
       "<style scoped>\n",
       "    .dataframe tbody tr th:only-of-type {\n",
       "        vertical-align: middle;\n",
       "    }\n",
       "\n",
       "    .dataframe tbody tr th {\n",
       "        vertical-align: top;\n",
       "    }\n",
       "\n",
       "    .dataframe thead th {\n",
       "        text-align: right;\n",
       "    }\n",
       "</style>\n",
       "<table border=\"1\" class=\"dataframe\">\n",
       "  <thead>\n",
       "    <tr style=\"text-align: right;\">\n",
       "      <th></th>\n",
       "      <th>Charlie</th>\n",
       "      <th>Sophie</th>\n",
       "      <th>Steven</th>\n",
       "    </tr>\n",
       "  </thead>\n",
       "  <tbody>\n",
       "    <tr>\n",
       "      <th>0</th>\n",
       "      <td>NaN</td>\n",
       "      <td>89.699334</td>\n",
       "      <td>66.065905</td>\n",
       "    </tr>\n",
       "    <tr>\n",
       "      <th>1</th>\n",
       "      <td>76.681927</td>\n",
       "      <td>NaN</td>\n",
       "      <td>6.165950</td>\n",
       "    </tr>\n",
       "    <tr>\n",
       "      <th>2</th>\n",
       "      <td>98.517026</td>\n",
       "      <td>37.585851</td>\n",
       "      <td>NaN</td>\n",
       "    </tr>\n",
       "    <tr>\n",
       "      <th>3</th>\n",
       "      <td>51.464830</td>\n",
       "      <td>NaN</td>\n",
       "      <td>NaN</td>\n",
       "    </tr>\n",
       "  </tbody>\n",
       "</table>\n",
       "</div>"
      ],
      "text/plain": [
       "     Charlie     Sophie     Steven\n",
       "0        NaN  89.699334  66.065905\n",
       "1  76.681927        NaN   6.165950\n",
       "2  98.517026  37.585851        NaN\n",
       "3  51.464830        NaN        NaN"
      ]
     },
     "execution_count": 7,
     "metadata": {},
     "output_type": "execute_result"
    }
   ],
   "source": [
    "temp_2 = np.array([[np.nan, gen_rand_num(), gen_rand_num()],\n",
    "         [gen_rand_num(), np.nan, gen_rand_num()],\n",
    "         [gen_rand_num(), gen_rand_num(), np.nan],\n",
    "         [gen_rand_num(), np.nan, np.nan]])\n",
    "\n",
    "df_2 = pd.DataFrame(temp_2, columns=imputer.get_feature_names_out())\n",
    "df_2"
   ]
  },
  {
   "cell_type": "code",
   "execution_count": 8,
   "id": "e29bd361-5b6d-447e-ab3c-1316e2cb8f9b",
   "metadata": {},
   "outputs": [
    {
     "data": {
      "text/html": [
       "<div>\n",
       "<style scoped>\n",
       "    .dataframe tbody tr th:only-of-type {\n",
       "        vertical-align: middle;\n",
       "    }\n",
       "\n",
       "    .dataframe tbody tr th {\n",
       "        vertical-align: top;\n",
       "    }\n",
       "\n",
       "    .dataframe thead th {\n",
       "        text-align: right;\n",
       "    }\n",
       "</style>\n",
       "<table border=\"1\" class=\"dataframe\">\n",
       "  <thead>\n",
       "    <tr style=\"text-align: right;\">\n",
       "      <th></th>\n",
       "      <th>Charlie</th>\n",
       "      <th>Sophie</th>\n",
       "      <th>Steven</th>\n",
       "    </tr>\n",
       "  </thead>\n",
       "  <tbody>\n",
       "    <tr>\n",
       "      <th>0</th>\n",
       "      <td>50.701194</td>\n",
       "      <td>89.699334</td>\n",
       "      <td>66.065905</td>\n",
       "    </tr>\n",
       "    <tr>\n",
       "      <th>1</th>\n",
       "      <td>76.681927</td>\n",
       "      <td>259.537685</td>\n",
       "      <td>6.165950</td>\n",
       "    </tr>\n",
       "    <tr>\n",
       "      <th>2</th>\n",
       "      <td>98.517026</td>\n",
       "      <td>37.585851</td>\n",
       "      <td>75.712907</td>\n",
       "    </tr>\n",
       "    <tr>\n",
       "      <th>3</th>\n",
       "      <td>51.464830</td>\n",
       "      <td>100.693783</td>\n",
       "      <td>56.081191</td>\n",
       "    </tr>\n",
       "  </tbody>\n",
       "</table>\n",
       "</div>"
      ],
      "text/plain": [
       "     Charlie      Sophie     Steven\n",
       "0  50.701194   89.699334  66.065905\n",
       "1  76.681927  259.537685   6.165950\n",
       "2  98.517026   37.585851  75.712907\n",
       "3  51.464830  100.693783  56.081191"
      ]
     },
     "execution_count": 8,
     "metadata": {},
     "output_type": "execute_result"
    }
   ],
   "source": [
    "pd.DataFrame(imputer.transform(df_2), columns=imputer.get_feature_names_out())"
   ]
  },
  {
   "cell_type": "code",
   "execution_count": null,
   "id": "4dfa0a96-3056-4f81-bb77-9327ce54f5b0",
   "metadata": {},
   "outputs": [],
   "source": [
    "# finding out how IterativeImputer() works with deugging package ipdb\n",
    "import ipdb; ipdb.set_trace()\n",
    "pd.DataFrame(imputer.transform(df_2), columns=imputer.get_feature_names_out())"
   ]
  },
  {
   "cell_type": "code",
   "execution_count": 18,
   "id": "38c8316f-cf3b-489c-a4a1-3f01b0fb06b1",
   "metadata": {},
   "outputs": [
    {
     "data": {
      "text/plain": [
       "array([50.22008759, 62.36415926, 56.0820072 ])"
      ]
     },
     "execution_count": 18,
     "metadata": {},
     "output_type": "execute_result"
    },
    {
     "data": {
      "text/plain": [
       "(50.22008759407888, 62.36415926181575, 56.08200719948012)"
      ]
     },
     "execution_count": 18,
     "metadata": {},
     "output_type": "execute_result"
    }
   ],
   "source": [
    "# this means (from DataFrame on which imputer was fitted) are used as initial values for transforming another DataFrame\n",
    "imputer.initial_imputer_.statistics_\n",
    "\n",
    "charlie_mean = df['Charlie'].mean()\n",
    "sophie_mean = df['Sophie'].mean()\n",
    "steven_mean = df['Steven'].mean()\n",
    "charlie_mean, sophie_mean, steven_mean"
   ]
  },
  {
   "cell_type": "code",
   "execution_count": 45,
   "id": "dbcc14e6-aebe-4f30-b60c-e58f72a35df3",
   "metadata": {
    "collapsed": true,
    "jupyter": {
     "outputs_hidden": true
    },
    "tags": []
   },
   "outputs": [
    {
     "data": {
      "text/plain": [
       "array([50.51316052])"
      ]
     },
     "execution_count": 45,
     "metadata": {},
     "output_type": "execute_result"
    },
    {
     "data": {
      "text/plain": [
       "array([265.33439896])"
      ]
     },
     "execution_count": 45,
     "metadata": {},
     "output_type": "execute_result"
    },
    {
     "data": {
      "text/plain": [
       "array([100.87539932])"
      ]
     },
     "execution_count": 45,
     "metadata": {},
     "output_type": "execute_result"
    },
    {
     "data": {
      "text/plain": [
       "array([75.56346395])"
      ]
     },
     "execution_count": 45,
     "metadata": {},
     "output_type": "execute_result"
    },
    {
     "data": {
      "text/plain": [
       "array([56.02229554])"
      ]
     },
     "execution_count": 45,
     "metadata": {},
     "output_type": "execute_result"
    },
    {
     "data": {
      "text/plain": [
       "array([50.70119195])"
      ]
     },
     "execution_count": 45,
     "metadata": {},
     "output_type": "execute_result"
    },
    {
     "data": {
      "text/plain": [
       "array([259.53772246])"
      ]
     },
     "execution_count": 45,
     "metadata": {},
     "output_type": "execute_result"
    },
    {
     "data": {
      "text/plain": [
       "array([100.78905961])"
      ]
     },
     "execution_count": 45,
     "metadata": {},
     "output_type": "execute_result"
    },
    {
     "data": {
      "text/plain": [
       "array([75.7129053])"
      ]
     },
     "execution_count": 45,
     "metadata": {},
     "output_type": "execute_result"
    },
    {
     "data": {
      "text/plain": [
       "array([56.05175796])"
      ]
     },
     "execution_count": 45,
     "metadata": {},
     "output_type": "execute_result"
    },
    {
     "data": {
      "text/plain": [
       "array([50.70119404])"
      ]
     },
     "execution_count": 45,
     "metadata": {},
     "output_type": "execute_result"
    },
    {
     "data": {
      "text/plain": [
       "array([259.53768254])"
      ]
     },
     "execution_count": 45,
     "metadata": {},
     "output_type": "execute_result"
    },
    {
     "data": {
      "text/plain": [
       "array([100.69378316])"
      ]
     },
     "execution_count": 45,
     "metadata": {},
     "output_type": "execute_result"
    },
    {
     "data": {
      "text/plain": [
       "array([75.71290633])"
      ]
     },
     "execution_count": 45,
     "metadata": {},
     "output_type": "execute_result"
    },
    {
     "data": {
      "text/plain": [
       "array([56.08119085])"
      ]
     },
     "execution_count": 45,
     "metadata": {},
     "output_type": "execute_result"
    }
   ],
   "source": [
    "# 1\n",
    "imputer.imputation_sequence_[0][2].predict(np.array([[89.699334, 66.065905]]))    # 50.51316052   [0, 0]\n",
    "\n",
    "\n",
    "# 2\n",
    "imputer.imputation_sequence_[1][2].predict(np.array([[76.681927, 6.165950]]))     # 265.33439896   [1, 1]\n",
    "imputer.imputation_sequence_[1][2].predict(np.array([[51.464830, steven_mean]]))     # 100.87539932  [3, 1]   -> put this value in step # 3\n",
    "\n",
    "# 3\n",
    "imputer.imputation_sequence_[2][2].predict(np.array([[98.517026, 37.585851]]))     # 75.56346395   [2, 2]\n",
    "imputer.imputation_sequence_[2][2].predict(np.array([[51.464830, 100.87539932]]))     # 56.02229554  [3, 2]  -> put this value in step # 5\n",
    "\n",
    "\n",
    "# 4\n",
    "imputer.imputation_sequence_[3][2].predict(np.array([[89.699334, 66.065905]]))    # 50.7011919   [0, 0]\n",
    "\n",
    "# 5\n",
    "imputer.imputation_sequence_[4][2].predict(np.array([[76.681927, 6.165950]]))     # 259.53772246   [1, 1]\n",
    "imputer.imputation_sequence_[4][2].predict(np.array([[51.464830, 56.02229554]]))     # 100.78905961  [3, 1]  -> put this value in step # 6\n",
    "\n",
    "# 6\n",
    "imputer.imputation_sequence_[5][2].predict(np.array([[98.517026, 37.585851]]))     # 75.7129053   [2, 2]\n",
    "imputer.imputation_sequence_[5][2].predict(np.array([[51.464830, 100.78905961]]))     # 56.05175796  [3, 2]  -> put this value in step # 8\n",
    "\n",
    "\n",
    "# 7\n",
    "imputer.imputation_sequence_[6][2].predict(np.array([[89.699334, 66.065905]]))    # 50.70119404   [0, 0]\n",
    "\n",
    "\n",
    "# 8\n",
    "imputer.imputation_sequence_[7][2].predict(np.array([[76.681927, 6.165950]]))     # 259.53768254   [1, 1]\n",
    "imputer.imputation_sequence_[7][2].predict(np.array([[51.464830, 56.05175796]]))     # 100.69378316  [3, 1]   -> put this value in step # 9\n",
    "\n",
    "# 9\n",
    "imputer.imputation_sequence_[8][2].predict(np.array([[98.517026, 37.585851]]))     # 75.71290633   [2, 2]\n",
    "imputer.imputation_sequence_[8][2].predict(np.array([[51.464830, 100.69378316]]))     # 56.08119085  [3, 2] "
   ]
  },
  {
   "cell_type": "markdown",
   "id": "2dce7f67-211c-489a-97a9-afe48b4e983c",
   "metadata": {},
   "source": [
    "# Conclusion"
   ]
  },
  {
   "cell_type": "markdown",
   "id": "196900eb-9381-4980-a541-116d8aff948b",
   "metadata": {},
   "source": [
    "How IterativeImputer() works when transforming new, unseen DataFrame ? Firstly, if needed for initial steps, it takes feature means from imputer.initial_imputer_.statistics_ .\n",
    "These are means of another DataFrame - on which imputer was fitted. Then it computes missing values with corresponding models from triplets in imputer.imputation_sequence_ .\n",
    "It calculates values with every model from imputer.imputation_sequence_ and replaces previous value with newly calculated. In example above there are 9 models in imputer.imputation_sequence_, so 9 different models are used.\n",
    "There is no data leakage because feature means are taken from training dataset and models from imputer.imputation_sequence_ are fitted on training dataset."
   ]
  },
  {
   "cell_type": "markdown",
   "id": "da9e4c1c-efdd-42b9-8fa9-f82c7ee99b18",
   "metadata": {},
   "source": [
    "## Snippet - find unique sequences"
   ]
  },
  {
   "cell_type": "code",
   "execution_count": 19,
   "id": "c0f9d34e-d45c-42ac-a4b3-befd6ba8610b",
   "metadata": {},
   "outputs": [
    {
     "data": {
      "text/plain": [
       "[_ImputerTriplet(feat_idx=0, neighbor_feat_idx=array([1, 2]), estimator=BayesianRidge()),\n",
       " _ImputerTriplet(feat_idx=1, neighbor_feat_idx=array([0, 2]), estimator=BayesianRidge()),\n",
       " _ImputerTriplet(feat_idx=2, neighbor_feat_idx=array([0, 1]), estimator=BayesianRidge()),\n",
       " _ImputerTriplet(feat_idx=0, neighbor_feat_idx=array([1, 2]), estimator=BayesianRidge()),\n",
       " _ImputerTriplet(feat_idx=1, neighbor_feat_idx=array([0, 2]), estimator=BayesianRidge()),\n",
       " _ImputerTriplet(feat_idx=2, neighbor_feat_idx=array([0, 1]), estimator=BayesianRidge()),\n",
       " _ImputerTriplet(feat_idx=0, neighbor_feat_idx=array([1, 2]), estimator=BayesianRidge()),\n",
       " _ImputerTriplet(feat_idx=1, neighbor_feat_idx=array([0, 2]), estimator=BayesianRidge()),\n",
       " _ImputerTriplet(feat_idx=2, neighbor_feat_idx=array([0, 1]), estimator=BayesianRidge())]"
      ]
     },
     "execution_count": 19,
     "metadata": {},
     "output_type": "execute_result"
    }
   ],
   "source": [
    "imputer.imputation_sequence_"
   ]
  },
  {
   "cell_type": "code",
   "execution_count": 24,
   "id": "e4c8a5d2-4ece-4ecf-a724-6dce2ce3a1d3",
   "metadata": {},
   "outputs": [],
   "source": [
    "all_arrays = []\n",
    "imp_seq = imputer.imputation_sequence_\n",
    "for i in range(len(imp_seq)):\n",
    "    feat_idx = [imp_seq[i][0]]\n",
    "    neighbor_feat_idx = imp_seq[i][1].tolist()\n",
    "    feat_idx.extend(neighbor_feat_idx)\n",
    "    all_arrays.append(feat_idx)\n",
    "unique, counts = np.unique(np.array(all_arrays), axis=0, return_counts=True)"
   ]
  },
  {
   "cell_type": "code",
   "execution_count": 25,
   "id": "c8dafaea-4be9-4a29-83fc-7d985c2355da",
   "metadata": {},
   "outputs": [
    {
     "data": {
      "text/plain": [
       "array([[0, 1, 2],\n",
       "       [1, 0, 2],\n",
       "       [2, 0, 1]])"
      ]
     },
     "execution_count": 25,
     "metadata": {},
     "output_type": "execute_result"
    }
   ],
   "source": [
    "unique"
   ]
  },
  {
   "cell_type": "code",
   "execution_count": 26,
   "id": "0763ff92-7a0b-4d88-9ab8-0047b4fb8fef",
   "metadata": {},
   "outputs": [
    {
     "data": {
      "text/plain": [
       "array([3, 3, 3])"
      ]
     },
     "execution_count": 26,
     "metadata": {},
     "output_type": "execute_result"
    }
   ],
   "source": [
    "counts"
   ]
  },
  {
   "cell_type": "code",
   "execution_count": null,
   "id": "86337053-2dd7-4d52-b001-ddd806779300",
   "metadata": {},
   "outputs": [],
   "source": [
    "###################"
   ]
  },
  {
   "cell_type": "code",
   "execution_count": 32,
   "id": "ee0f619c-c4d8-4c13-bb8a-7821787eef89",
   "metadata": {},
   "outputs": [
    {
     "data": {
      "text/plain": [
       "3"
      ]
     },
     "execution_count": 32,
     "metadata": {},
     "output_type": "execute_result"
    },
    {
     "data": {
      "text/plain": [
       "True"
      ]
     },
     "execution_count": 32,
     "metadata": {},
     "output_type": "execute_result"
    }
   ],
   "source": [
    "imputer.n_iter_\n",
    "(len(counts) * imputer.n_iter_) == len(imputer.imputation_sequence_)\n",
    "# num of features * num of iterations = num of triplets ->  3 * 3 = 9"
   ]
  }
 ],
 "metadata": {
  "kernelspec": {
   "display_name": "Python 3 (ipykernel)",
   "language": "python",
   "name": "python3"
  },
  "language_info": {
   "codemirror_mode": {
    "name": "ipython",
    "version": 3
   },
   "file_extension": ".py",
   "mimetype": "text/x-python",
   "name": "python",
   "nbconvert_exporter": "python",
   "pygments_lexer": "ipython3",
   "version": "3.11.4"
  }
 },
 "nbformat": 4,
 "nbformat_minor": 5
}
